{
 "cells": [
  {
   "cell_type": "markdown",
   "metadata": {},
   "source": [
    "## DS - 3001 Final Project: A Look into Healthcare System Capacity\n",
    "#### Amanda Lin, Courtney Nguyen, Cole Blanton, Emaan Qillawala"
   ]
  },
  {
   "cell_type": "code",
   "execution_count": 279,
   "metadata": {},
   "outputs": [],
   "source": [
    "import pandas as pd\n",
    "import numpy as np\n",
    "import matplotlib.pyplot as plt\n",
    "from sklearn.model_selection import train_test_split \n",
    "from sklearn.preprocessing import MinMaxScaler\n",
    "from sklearn.neighbors import KNeighborsClassifier\n",
    "from sklearn import metrics\n",
    "import seaborn as sns\n",
    "from sklearn.calibration import LabelEncoder\n",
    "from sklearn.metrics import confusion_matrix"
   ]
  },
  {
   "cell_type": "markdown",
   "metadata": {},
   "source": [
    "### 1. Question and background information on the data and why you are asking this question(s).  References to previous research/evidence generally would be nice to include."
   ]
  },
  {
   "cell_type": "markdown",
   "metadata": {},
   "source": [
    "### **Question Problem:** The CDC must determine the national healthcare system’s capacity to handle the COVID-19 pandemic and its severity. They would like to determine whether or not a county’s healthcare system capacity (the number of occupied beds) is at high occupancy (seen at 0.7 or more) based on county population, state, number of staffed beds per 1000 people, licensed all beds, etc.\n"
   ]
  },
  {
   "cell_type": "code",
   "execution_count": 280,
   "metadata": {},
   "outputs": [
    {
     "name": "stdout",
     "output_type": "stream",
     "text": [
      "<class 'pandas.core.frame.DataFrame'>\n",
      "RangeIndex: 2537 entries, 0 to 2536\n",
      "Data columns (total 22 columns):\n",
      " #   Column                                      Non-Null Count  Dtype  \n",
      "---  ------                                      --------------  -----  \n",
      " 0   fips_code                                   2537 non-null   int64  \n",
      " 1   State                                       2537 non-null   object \n",
      " 2   County Name                                 2537 non-null   object \n",
      " 3   Staffed All Beds                            2537 non-null   float64\n",
      " 4   Staffed ICU Beds                            2537 non-null   float64\n",
      " 5   Licensed All Beds                           2537 non-null   float64\n",
      " 6   All Bed Occupancy Rate                      2460 non-null   float64\n",
      " 7   ICU Bed Occupancy Rate                      1410 non-null   float64\n",
      " 8   Population                                  2537 non-null   float64\n",
      " 9   Population (20+)                            2537 non-null   float64\n",
      " 10  Population (65+)                            2537 non-null   float64\n",
      " 11  Staffed All Beds [Per 1000 People]          2509 non-null   float64\n",
      " 12  Staffed All Beds [Per 1000 Adults (20+)]    2509 non-null   float64\n",
      " 13  Staffed All Beds [Per 1000 Elderly (65+)]   2509 non-null   float64\n",
      " 14  Staffed ICU Beds [Per 1000 People]          2509 non-null   float64\n",
      " 15  Staffed ICU Beds [Per 1000 Adults (20+)]    2509 non-null   float64\n",
      " 16  Staffed ICU Beds [Per 1000 Elderly (65+)]   2509 non-null   float64\n",
      " 17  Licensed All Beds [Per 1000 People]         2509 non-null   float64\n",
      " 18  Licensed All Beds [Per 1000 Adults (20+)]   2509 non-null   float64\n",
      " 19  Licensed All Beds [Per 1000 Elderly (65+)]  2509 non-null   float64\n",
      " 20  ICU Bed Source                              2537 non-null   object \n",
      " 21  ICU Bed Source Last Updated                 2 non-null      object \n",
      "dtypes: float64(17), int64(1), object(4)\n",
      "memory usage: 436.2+ KB\n"
     ]
    }
   ],
   "source": [
    "covid = pd.read_csv(\"/Users/courtneynguyen2/Documents/myDS-3001/covid.csv\")\n",
    "covid.info()"
   ]
  },
  {
   "cell_type": "markdown",
   "metadata": {},
   "source": [
    "### **Clean Data** "
   ]
  },
  {
   "cell_type": "markdown",
   "metadata": {},
   "source": [
    "#### Drop Variables and NAs"
   ]
  },
  {
   "cell_type": "code",
   "execution_count": 281,
   "metadata": {},
   "outputs": [],
   "source": [
    "covid = covid.drop(columns=['Staffed ICU Beds', 'ICU Bed Occupancy Rate', 'Staffed ICU Beds [Per 1000 People]', 'Staffed ICU Beds [Per 1000 Adults (20+)]', 'Staffed ICU Beds [Per 1000 Elderly (65+)]','ICU Bed Source', 'ICU Bed Source Last Updated'])\n",
    "covid = covid.dropna()"
   ]
  },
  {
   "cell_type": "markdown",
   "metadata": {},
   "source": [
    "### 2. Exploratory Data Analysis – Initial summary statistics and graphs with an emphasis on variables you believe to be important for your analysis."
   ]
  },
  {
   "cell_type": "markdown",
   "metadata": {},
   "source": [
    "### **Target Variable:** All Bed Occupancy Rate"
   ]
  },
  {
   "cell_type": "code",
   "execution_count": 282,
   "metadata": {},
   "outputs": [
    {
     "data": {
      "text/html": [
       "<div>\n",
       "<style scoped>\n",
       "    .dataframe tbody tr th:only-of-type {\n",
       "        vertical-align: middle;\n",
       "    }\n",
       "\n",
       "    .dataframe tbody tr th {\n",
       "        vertical-align: top;\n",
       "    }\n",
       "\n",
       "    .dataframe thead th {\n",
       "        text-align: right;\n",
       "    }\n",
       "</style>\n",
       "<table border=\"1\" class=\"dataframe\">\n",
       "  <thead>\n",
       "    <tr style=\"text-align: right;\">\n",
       "      <th></th>\n",
       "      <th>fips_code</th>\n",
       "      <th>State</th>\n",
       "      <th>County Name</th>\n",
       "      <th>Staffed All Beds</th>\n",
       "      <th>Licensed All Beds</th>\n",
       "      <th>All Bed Occupancy Rate</th>\n",
       "      <th>Population</th>\n",
       "      <th>Population (20+)</th>\n",
       "      <th>Population (65+)</th>\n",
       "      <th>Staffed All Beds [Per 1000 People]</th>\n",
       "      <th>Staffed All Beds [Per 1000 Adults (20+)]</th>\n",
       "      <th>Staffed All Beds [Per 1000 Elderly (65+)]</th>\n",
       "      <th>Licensed All Beds [Per 1000 People]</th>\n",
       "      <th>Licensed All Beds [Per 1000 Adults (20+)]</th>\n",
       "      <th>Licensed All Beds [Per 1000 Elderly (65+)]</th>\n",
       "    </tr>\n",
       "  </thead>\n",
       "  <tbody>\n",
       "    <tr>\n",
       "      <th>1</th>\n",
       "      <td>2020</td>\n",
       "      <td>AK</td>\n",
       "      <td>Anchorage</td>\n",
       "      <td>979.0</td>\n",
       "      <td>1149.0</td>\n",
       "      <td>0.66</td>\n",
       "      <td>291538.0</td>\n",
       "      <td>213508.0</td>\n",
       "      <td>32333.0</td>\n",
       "      <td>3.358</td>\n",
       "      <td>4.585</td>\n",
       "      <td>30.279</td>\n",
       "      <td>3.941</td>\n",
       "      <td>5.382</td>\n",
       "      <td>35.536</td>\n",
       "    </tr>\n",
       "    <tr>\n",
       "      <th>2</th>\n",
       "      <td>2050</td>\n",
       "      <td>AK</td>\n",
       "      <td>Bethel</td>\n",
       "      <td>34.0</td>\n",
       "      <td>37.0</td>\n",
       "      <td>0.40</td>\n",
       "      <td>18216.0</td>\n",
       "      <td>11082.0</td>\n",
       "      <td>1402.0</td>\n",
       "      <td>1.866</td>\n",
       "      <td>3.068</td>\n",
       "      <td>24.251</td>\n",
       "      <td>2.031</td>\n",
       "      <td>3.339</td>\n",
       "      <td>26.391</td>\n",
       "    </tr>\n",
       "    <tr>\n",
       "      <th>3</th>\n",
       "      <td>2070</td>\n",
       "      <td>AK</td>\n",
       "      <td>Dillingham</td>\n",
       "      <td>18.0</td>\n",
       "      <td>18.0</td>\n",
       "      <td>0.15</td>\n",
       "      <td>5000.0</td>\n",
       "      <td>3278.0</td>\n",
       "      <td>470.0</td>\n",
       "      <td>3.600</td>\n",
       "      <td>5.491</td>\n",
       "      <td>38.298</td>\n",
       "      <td>3.600</td>\n",
       "      <td>5.491</td>\n",
       "      <td>38.298</td>\n",
       "    </tr>\n",
       "    <tr>\n",
       "      <th>4</th>\n",
       "      <td>2090</td>\n",
       "      <td>AK</td>\n",
       "      <td>Fairbanks North Star</td>\n",
       "      <td>145.0</td>\n",
       "      <td>175.0</td>\n",
       "      <td>0.46</td>\n",
       "      <td>98971.0</td>\n",
       "      <td>72505.0</td>\n",
       "      <td>10204.0</td>\n",
       "      <td>1.465</td>\n",
       "      <td>2.000</td>\n",
       "      <td>14.210</td>\n",
       "      <td>1.768</td>\n",
       "      <td>2.414</td>\n",
       "      <td>17.150</td>\n",
       "    </tr>\n",
       "    <tr>\n",
       "      <th>5</th>\n",
       "      <td>2110</td>\n",
       "      <td>AK</td>\n",
       "      <td>Juneau</td>\n",
       "      <td>45.0</td>\n",
       "      <td>73.0</td>\n",
       "      <td>0.41</td>\n",
       "      <td>32113.0</td>\n",
       "      <td>24525.0</td>\n",
       "      <td>4298.0</td>\n",
       "      <td>1.401</td>\n",
       "      <td>1.835</td>\n",
       "      <td>10.470</td>\n",
       "      <td>2.273</td>\n",
       "      <td>2.977</td>\n",
       "      <td>16.985</td>\n",
       "    </tr>\n",
       "  </tbody>\n",
       "</table>\n",
       "</div>"
      ],
      "text/plain": [
       "   fips_code State           County Name  Staffed All Beds  Licensed All Beds  \\\n",
       "1       2020    AK             Anchorage             979.0             1149.0   \n",
       "2       2050    AK                Bethel              34.0               37.0   \n",
       "3       2070    AK            Dillingham              18.0               18.0   \n",
       "4       2090    AK  Fairbanks North Star             145.0              175.0   \n",
       "5       2110    AK                Juneau              45.0               73.0   \n",
       "\n",
       "   All Bed Occupancy Rate  Population  Population (20+)  Population (65+)  \\\n",
       "1                    0.66    291538.0          213508.0           32333.0   \n",
       "2                    0.40     18216.0           11082.0            1402.0   \n",
       "3                    0.15      5000.0            3278.0             470.0   \n",
       "4                    0.46     98971.0           72505.0           10204.0   \n",
       "5                    0.41     32113.0           24525.0            4298.0   \n",
       "\n",
       "   Staffed All Beds [Per 1000 People]  \\\n",
       "1                               3.358   \n",
       "2                               1.866   \n",
       "3                               3.600   \n",
       "4                               1.465   \n",
       "5                               1.401   \n",
       "\n",
       "   Staffed All Beds [Per 1000 Adults (20+)]  \\\n",
       "1                                     4.585   \n",
       "2                                     3.068   \n",
       "3                                     5.491   \n",
       "4                                     2.000   \n",
       "5                                     1.835   \n",
       "\n",
       "   Staffed All Beds [Per 1000 Elderly (65+)]  \\\n",
       "1                                     30.279   \n",
       "2                                     24.251   \n",
       "3                                     38.298   \n",
       "4                                     14.210   \n",
       "5                                     10.470   \n",
       "\n",
       "   Licensed All Beds [Per 1000 People]  \\\n",
       "1                                3.941   \n",
       "2                                2.031   \n",
       "3                                3.600   \n",
       "4                                1.768   \n",
       "5                                2.273   \n",
       "\n",
       "   Licensed All Beds [Per 1000 Adults (20+)]  \\\n",
       "1                                      5.382   \n",
       "2                                      3.339   \n",
       "3                                      5.491   \n",
       "4                                      2.414   \n",
       "5                                      2.977   \n",
       "\n",
       "   Licensed All Beds [Per 1000 Elderly (65+)]  \n",
       "1                                      35.536  \n",
       "2                                      26.391  \n",
       "3                                      38.298  \n",
       "4                                      17.150  \n",
       "5                                      16.985  "
      ]
     },
     "execution_count": 282,
     "metadata": {},
     "output_type": "execute_result"
    }
   ],
   "source": [
    "covid.head()"
   ]
  },
  {
   "cell_type": "markdown",
   "metadata": {},
   "source": [
    "### Checking Composition of Data"
   ]
  },
  {
   "cell_type": "code",
   "execution_count": 283,
   "metadata": {},
   "outputs": [
    {
     "name": "stdout",
     "output_type": "stream",
     "text": [
      "<class 'pandas.core.frame.DataFrame'>\n",
      "Index: 2436 entries, 1 to 2536\n",
      "Data columns (total 15 columns):\n",
      " #   Column                                      Non-Null Count  Dtype  \n",
      "---  ------                                      --------------  -----  \n",
      " 0   fips_code                                   2436 non-null   int64  \n",
      " 1   State                                       2436 non-null   object \n",
      " 2   County Name                                 2436 non-null   object \n",
      " 3   Staffed All Beds                            2436 non-null   float64\n",
      " 4   Licensed All Beds                           2436 non-null   float64\n",
      " 5   All Bed Occupancy Rate                      2436 non-null   float64\n",
      " 6   Population                                  2436 non-null   float64\n",
      " 7   Population (20+)                            2436 non-null   float64\n",
      " 8   Population (65+)                            2436 non-null   float64\n",
      " 9   Staffed All Beds [Per 1000 People]          2436 non-null   float64\n",
      " 10  Staffed All Beds [Per 1000 Adults (20+)]    2436 non-null   float64\n",
      " 11  Staffed All Beds [Per 1000 Elderly (65+)]   2436 non-null   float64\n",
      " 12  Licensed All Beds [Per 1000 People]         2436 non-null   float64\n",
      " 13  Licensed All Beds [Per 1000 Adults (20+)]   2436 non-null   float64\n",
      " 14  Licensed All Beds [Per 1000 Elderly (65+)]  2436 non-null   float64\n",
      "dtypes: float64(12), int64(1), object(2)\n",
      "memory usage: 304.5+ KB\n"
     ]
    }
   ],
   "source": [
    "covid.info()"
   ]
  },
  {
   "cell_type": "markdown",
   "metadata": {},
   "source": [
    "#### Value Counts of Counties per State "
   ]
  },
  {
   "cell_type": "code",
   "execution_count": 284,
   "metadata": {},
   "outputs": [
    {
     "name": "stderr",
     "output_type": "stream",
     "text": [
      "/Library/Frameworks/Python.framework/Versions/3.11/lib/python3.11/site-packages/seaborn/_oldcore.py:1498: FutureWarning: is_categorical_dtype is deprecated and will be removed in a future version. Use isinstance(dtype, CategoricalDtype) instead\n",
      "  if pd.api.types.is_categorical_dtype(vector):\n",
      "/Library/Frameworks/Python.framework/Versions/3.11/lib/python3.11/site-packages/seaborn/_oldcore.py:1498: FutureWarning: is_categorical_dtype is deprecated and will be removed in a future version. Use isinstance(dtype, CategoricalDtype) instead\n",
      "  if pd.api.types.is_categorical_dtype(vector):\n",
      "/Library/Frameworks/Python.framework/Versions/3.11/lib/python3.11/site-packages/seaborn/_oldcore.py:1498: FutureWarning: is_categorical_dtype is deprecated and will be removed in a future version. Use isinstance(dtype, CategoricalDtype) instead\n",
      "  if pd.api.types.is_categorical_dtype(vector):\n"
     ]
    },
    {
     "data": {
      "image/png": "[encoded data removed]",
      "text/plain": [
       "<Figure size 1000x500 with 1 Axes>"
      ]
     },
     "metadata": {},
     "output_type": "display_data"
    }
   ],
   "source": [
    "plt.figure(figsize=(10, 5))\n",
    "chart = sns.countplot( data=covid, x='State')\n",
    "chart.set_xticklabels(chart.get_xticklabels(), rotation=45)\n",
    "plt.show()"
   ]
  },
  {
   "cell_type": "markdown",
   "metadata": {},
   "source": [
    "### All Bed Occupancy 5 Number Summary Box Plot "
   ]
  },
  {
   "cell_type": "code",
   "execution_count": 285,
   "metadata": {},
   "outputs": [
    {
     "name": "stderr",
     "output_type": "stream",
     "text": [
      "/Library/Frameworks/Python.framework/Versions/3.11/lib/python3.11/site-packages/seaborn/_oldcore.py:1498: FutureWarning: is_categorical_dtype is deprecated and will be removed in a future version. Use isinstance(dtype, CategoricalDtype) instead\n",
      "  if pd.api.types.is_categorical_dtype(vector):\n"
     ]
    },
    {
     "data": {
      "image/png": "[encoded data removed]",
      "text/plain": [
       "<Figure size 640x480 with 1 Axes>"
      ]
     },
     "metadata": {},
     "output_type": "display_data"
    }
   ],
   "source": [
    "sns.boxplot(y='All Bed Occupancy Rate', data=covid)\n",
    "\n",
    "plt.title('All Bed Occupancy Rate')\n",
    "plt.ylabel('Occupancy Rate')\n",
    "plt.show()"
   ]
  },
  {
   "cell_type": "markdown",
   "metadata": {},
   "source": [
    "#### Convert Target Var Using High Occupancy Threshold"
   ]
  },
  {
   "cell_type": "code",
   "execution_count": 286,
   "metadata": {},
   "outputs": [
    {
     "data": {
      "text/plain": [
       "1         high occupancy\n",
       "2       middle occupancy\n",
       "3          low occupancy\n",
       "4       middle occupancy\n",
       "5       middle occupancy\n",
       "              ...       \n",
       "2532       low occupancy\n",
       "2533    middle occupancy\n",
       "2534    middle occupancy\n",
       "2535    middle occupancy\n",
       "2536    middle occupancy\n",
       "Name: All Bed Occupancy Rate, Length: 2436, dtype: object"
      ]
     },
     "execution_count": 286,
     "metadata": {},
     "output_type": "execute_result"
    }
   ],
   "source": [
    "covid['All Bed Occupancy Rate'] = covid['All Bed Occupancy Rate'].apply(\n",
    "    lambda x: 'high occupancy' if x > 0.60\n",
    "    else ('middle occupancy' if x > 0.25\n",
    "          else 'low occupancy')\n",
    ")\n",
    "\n",
    "covid['All Bed Occupancy Rate'].astype('object')"
   ]
  },
  {
   "cell_type": "code",
   "execution_count": 287,
   "metadata": {},
   "outputs": [
    {
     "data": {
      "text/plain": [
       "All Bed Occupancy Rate\n",
       "middle occupancy    1231\n",
       "low occupancy        656\n",
       "high occupancy       549\n",
       "Name: count, dtype: int64"
      ]
     },
     "execution_count": 287,
     "metadata": {},
     "output_type": "execute_result"
    }
   ],
   "source": [
    "covid['All Bed Occupancy Rate'].value_counts()"
   ]
  },
  {
   "cell_type": "markdown",
   "metadata": {},
   "source": [
    "### Value Counts of Categorized All Bed Occupancy Rate"
   ]
  },
  {
   "cell_type": "code",
   "execution_count": 288,
   "metadata": {},
   "outputs": [
    {
     "name": "stderr",
     "output_type": "stream",
     "text": [
      "/Library/Frameworks/Python.framework/Versions/3.11/lib/python3.11/site-packages/seaborn/_oldcore.py:1498: FutureWarning: is_categorical_dtype is deprecated and will be removed in a future version. Use isinstance(dtype, CategoricalDtype) instead\n",
      "  if pd.api.types.is_categorical_dtype(vector):\n",
      "/Library/Frameworks/Python.framework/Versions/3.11/lib/python3.11/site-packages/seaborn/_oldcore.py:1498: FutureWarning: is_categorical_dtype is deprecated and will be removed in a future version. Use isinstance(dtype, CategoricalDtype) instead\n",
      "  if pd.api.types.is_categorical_dtype(vector):\n",
      "/Library/Frameworks/Python.framework/Versions/3.11/lib/python3.11/site-packages/seaborn/_oldcore.py:1498: FutureWarning: is_categorical_dtype is deprecated and will be removed in a future version. Use isinstance(dtype, CategoricalDtype) instead\n",
      "  if pd.api.types.is_categorical_dtype(vector):\n"
     ]
    },
    {
     "data": {
      "image/png": "[encoded data removed]",
      "text/plain": [
       "<Figure size 1000x500 with 1 Axes>"
      ]
     },
     "metadata": {},
     "output_type": "display_data"
    }
   ],
   "source": [
    "plt.figure(figsize=(10, 5))\n",
    "chart = sns.countplot(data=covid, x='All Bed Occupancy Rate')\n",
    "chart.set_xticklabels(chart.get_xticklabels(), rotation=45)\n",
    "plt.show()"
   ]
  },
  {
   "cell_type": "code",
   "execution_count": 289,
   "metadata": {},
   "outputs": [
    {
     "data": {
      "text/html": [
       "<div>\n",
       "<style scoped>\n",
       "    .dataframe tbody tr th:only-of-type {\n",
       "        vertical-align: middle;\n",
       "    }\n",
       "\n",
       "    .dataframe tbody tr th {\n",
       "        vertical-align: top;\n",
       "    }\n",
       "\n",
       "    .dataframe thead th {\n",
       "        text-align: right;\n",
       "    }\n",
       "</style>\n",
       "<table border=\"1\" class=\"dataframe\">\n",
       "  <thead>\n",
       "    <tr style=\"text-align: right;\">\n",
       "      <th></th>\n",
       "      <th>fips_code</th>\n",
       "      <th>Staffed All Beds</th>\n",
       "      <th>Licensed All Beds</th>\n",
       "      <th>Population</th>\n",
       "      <th>Population (20+)</th>\n",
       "      <th>Population (65+)</th>\n",
       "      <th>Staffed All Beds [Per 1000 People]</th>\n",
       "      <th>Staffed All Beds [Per 1000 Adults (20+)]</th>\n",
       "      <th>Staffed All Beds [Per 1000 Elderly (65+)]</th>\n",
       "      <th>Licensed All Beds [Per 1000 People]</th>\n",
       "      <th>Licensed All Beds [Per 1000 Adults (20+)]</th>\n",
       "      <th>Licensed All Beds [Per 1000 Elderly (65+)]</th>\n",
       "    </tr>\n",
       "  </thead>\n",
       "  <tbody>\n",
       "    <tr>\n",
       "      <th>count</th>\n",
       "      <td>2436.000000</td>\n",
       "      <td>2436.000000</td>\n",
       "      <td>2436.000000</td>\n",
       "      <td>2.436000e+03</td>\n",
       "      <td>2.436000e+03</td>\n",
       "      <td>2.436000e+03</td>\n",
       "      <td>2436.000000</td>\n",
       "      <td>2436.000000</td>\n",
       "      <td>2436.000000</td>\n",
       "      <td>2436.000000</td>\n",
       "      <td>2436.000000</td>\n",
       "      <td>2436.000000</td>\n",
       "    </tr>\n",
       "    <tr>\n",
       "      <th>mean</th>\n",
       "      <td>30149.147373</td>\n",
       "      <td>332.106322</td>\n",
       "      <td>428.863711</td>\n",
       "      <td>1.296366e+05</td>\n",
       "      <td>9.711367e+04</td>\n",
       "      <td>2.064483e+04</td>\n",
       "      <td>2.665162</td>\n",
       "      <td>3.547758</td>\n",
       "      <td>14.597846</td>\n",
       "      <td>3.453977</td>\n",
       "      <td>4.594261</td>\n",
       "      <td>18.994130</td>\n",
       "    </tr>\n",
       "    <tr>\n",
       "      <th>std</th>\n",
       "      <td>14947.143726</td>\n",
       "      <td>1003.550685</td>\n",
       "      <td>1279.834426</td>\n",
       "      <td>3.747552e+05</td>\n",
       "      <td>2.809996e+05</td>\n",
       "      <td>5.350184e+04</td>\n",
       "      <td>2.417202</td>\n",
       "      <td>3.175213</td>\n",
       "      <td>12.894066</td>\n",
       "      <td>3.906481</td>\n",
       "      <td>5.076848</td>\n",
       "      <td>20.905135</td>\n",
       "    </tr>\n",
       "    <tr>\n",
       "      <th>min</th>\n",
       "      <td>1001.000000</td>\n",
       "      <td>2.000000</td>\n",
       "      <td>0.000000</td>\n",
       "      <td>1.087000e+03</td>\n",
       "      <td>8.800000e+02</td>\n",
       "      <td>2.540000e+02</td>\n",
       "      <td>0.092000</td>\n",
       "      <td>0.128000</td>\n",
       "      <td>0.493000</td>\n",
       "      <td>0.000000</td>\n",
       "      <td>0.000000</td>\n",
       "      <td>0.000000</td>\n",
       "    </tr>\n",
       "    <tr>\n",
       "      <th>25%</th>\n",
       "      <td>19032.000000</td>\n",
       "      <td>25.000000</td>\n",
       "      <td>25.000000</td>\n",
       "      <td>1.550450e+04</td>\n",
       "      <td>1.171075e+04</td>\n",
       "      <td>3.064000e+03</td>\n",
       "      <td>1.291000</td>\n",
       "      <td>1.710500</td>\n",
       "      <td>6.940500</td>\n",
       "      <td>1.588000</td>\n",
       "      <td>2.113750</td>\n",
       "      <td>8.511000</td>\n",
       "    </tr>\n",
       "    <tr>\n",
       "      <th>50%</th>\n",
       "      <td>29114.000000</td>\n",
       "      <td>50.000000</td>\n",
       "      <td>76.000000</td>\n",
       "      <td>3.563350e+04</td>\n",
       "      <td>2.688050e+04</td>\n",
       "      <td>6.643500e+03</td>\n",
       "      <td>2.038500</td>\n",
       "      <td>2.720500</td>\n",
       "      <td>11.203000</td>\n",
       "      <td>2.626500</td>\n",
       "      <td>3.506000</td>\n",
       "      <td>14.336000</td>\n",
       "    </tr>\n",
       "    <tr>\n",
       "      <th>75%</th>\n",
       "      <td>42089.500000</td>\n",
       "      <td>209.000000</td>\n",
       "      <td>272.250000</td>\n",
       "      <td>9.681875e+04</td>\n",
       "      <td>7.229200e+04</td>\n",
       "      <td>1.637425e+04</td>\n",
       "      <td>3.138000</td>\n",
       "      <td>4.210000</td>\n",
       "      <td>17.792750</td>\n",
       "      <td>4.081500</td>\n",
       "      <td>5.441500</td>\n",
       "      <td>22.717250</td>\n",
       "    </tr>\n",
       "    <tr>\n",
       "      <th>max</th>\n",
       "      <td>56045.000000</td>\n",
       "      <td>23071.000000</td>\n",
       "      <td>27400.000000</td>\n",
       "      <td>1.010552e+07</td>\n",
       "      <td>7.658126e+06</td>\n",
       "      <td>1.375957e+06</td>\n",
       "      <td>30.373000</td>\n",
       "      <td>39.077000</td>\n",
       "      <td>155.666000</td>\n",
       "      <td>97.226000</td>\n",
       "      <td>120.423000</td>\n",
       "      <td>463.326000</td>\n",
       "    </tr>\n",
       "  </tbody>\n",
       "</table>\n",
       "</div>"
      ],
      "text/plain": [
       "          fips_code  Staffed All Beds  Licensed All Beds    Population  \\\n",
       "count   2436.000000       2436.000000        2436.000000  2.436000e+03   \n",
       "mean   30149.147373        332.106322         428.863711  1.296366e+05   \n",
       "std    14947.143726       1003.550685        1279.834426  3.747552e+05   \n",
       "min     1001.000000          2.000000           0.000000  1.087000e+03   \n",
       "25%    19032.000000         25.000000          25.000000  1.550450e+04   \n",
       "50%    29114.000000         50.000000          76.000000  3.563350e+04   \n",
       "75%    42089.500000        209.000000         272.250000  9.681875e+04   \n",
       "max    56045.000000      23071.000000       27400.000000  1.010552e+07   \n",
       "\n",
       "       Population (20+)  Population (65+)  Staffed All Beds [Per 1000 People]  \\\n",
       "count      2.436000e+03      2.436000e+03                         2436.000000   \n",
       "mean       9.711367e+04      2.064483e+04                            2.665162   \n",
       "std        2.809996e+05      5.350184e+04                            2.417202   \n",
       "min        8.800000e+02      2.540000e+02                            0.092000   \n",
       "25%        1.171075e+04      3.064000e+03                            1.291000   \n",
       "50%        2.688050e+04      6.643500e+03                            2.038500   \n",
       "75%        7.229200e+04      1.637425e+04                            3.138000   \n",
       "max        7.658126e+06      1.375957e+06                           30.373000   \n",
       "\n",
       "       Staffed All Beds [Per 1000 Adults (20+)]  \\\n",
       "count                               2436.000000   \n",
       "mean                                   3.547758   \n",
       "std                                    3.175213   \n",
       "min                                    0.128000   \n",
       "25%                                    1.710500   \n",
       "50%                                    2.720500   \n",
       "75%                                    4.210000   \n",
       "max                                   39.077000   \n",
       "\n",
       "       Staffed All Beds [Per 1000 Elderly (65+)]  \\\n",
       "count                                2436.000000   \n",
       "mean                                   14.597846   \n",
       "std                                    12.894066   \n",
       "min                                     0.493000   \n",
       "25%                                     6.940500   \n",
       "50%                                    11.203000   \n",
       "75%                                    17.792750   \n",
       "max                                   155.666000   \n",
       "\n",
       "       Licensed All Beds [Per 1000 People]  \\\n",
       "count                          2436.000000   \n",
       "mean                              3.453977   \n",
       "std                               3.906481   \n",
       "min                               0.000000   \n",
       "25%                               1.588000   \n",
       "50%                               2.626500   \n",
       "75%                               4.081500   \n",
       "max                              97.226000   \n",
       "\n",
       "       Licensed All Beds [Per 1000 Adults (20+)]  \\\n",
       "count                                2436.000000   \n",
       "mean                                    4.594261   \n",
       "std                                     5.076848   \n",
       "min                                     0.000000   \n",
       "25%                                     2.113750   \n",
       "50%                                     3.506000   \n",
       "75%                                     5.441500   \n",
       "max                                   120.423000   \n",
       "\n",
       "       Licensed All Beds [Per 1000 Elderly (65+)]  \n",
       "count                                 2436.000000  \n",
       "mean                                    18.994130  \n",
       "std                                     20.905135  \n",
       "min                                      0.000000  \n",
       "25%                                      8.511000  \n",
       "50%                                     14.336000  \n",
       "75%                                     22.717250  \n",
       "max                                    463.326000  "
      ]
     },
     "execution_count": 289,
     "metadata": {},
     "output_type": "execute_result"
    }
   ],
   "source": [
    "covid.describe()"
   ]
  },
  {
   "cell_type": "markdown",
   "metadata": {},
   "source": [
    "#### **Normalizing Numeric Vectors**"
   ]
  },
  {
   "cell_type": "code",
   "execution_count": 290,
   "metadata": {},
   "outputs": [],
   "source": [
    "numeric = covid.select_dtypes(include=['float64']).columns.tolist()\n",
    "covid[numeric] = MinMaxScaler().fit_transform(covid[numeric])"
   ]
  },
  {
   "cell_type": "markdown",
   "metadata": {},
   "source": [
    "#### **One-Hot Encoding and Partition Data**"
   ]
  },
  {
   "cell_type": "code",
   "execution_count": 291,
   "metadata": {},
   "outputs": [
    {
     "data": {
      "text/html": [
       "<div>\n",
       "<style scoped>\n",
       "    .dataframe tbody tr th:only-of-type {\n",
       "        vertical-align: middle;\n",
       "    }\n",
       "\n",
       "    .dataframe tbody tr th {\n",
       "        vertical-align: top;\n",
       "    }\n",
       "\n",
       "    .dataframe thead th {\n",
       "        text-align: right;\n",
       "    }\n",
       "</style>\n",
       "<table border=\"1\" class=\"dataframe\">\n",
       "  <thead>\n",
       "    <tr style=\"text-align: right;\">\n",
       "      <th></th>\n",
       "      <th>fips_code</th>\n",
       "      <th>Staffed All Beds</th>\n",
       "      <th>Licensed All Beds</th>\n",
       "      <th>Population</th>\n",
       "      <th>Population (20+)</th>\n",
       "      <th>Population (65+)</th>\n",
       "      <th>Staffed All Beds [Per 1000 People]</th>\n",
       "      <th>Staffed All Beds [Per 1000 Adults (20+)]</th>\n",
       "      <th>Staffed All Beds [Per 1000 Elderly (65+)]</th>\n",
       "      <th>Licensed All Beds [Per 1000 People]</th>\n",
       "      <th>...</th>\n",
       "      <th>County Name_Yellowstone</th>\n",
       "      <th>County Name_Yoakum</th>\n",
       "      <th>County Name_Yolo</th>\n",
       "      <th>County Name_York</th>\n",
       "      <th>County Name_Young</th>\n",
       "      <th>County Name_Yuba</th>\n",
       "      <th>County Name_Yuma</th>\n",
       "      <th>All Bed Occupancy Rate_high occupancy</th>\n",
       "      <th>All Bed Occupancy Rate_low occupancy</th>\n",
       "      <th>All Bed Occupancy Rate_middle occupancy</th>\n",
       "    </tr>\n",
       "  </thead>\n",
       "  <tbody>\n",
       "    <tr>\n",
       "      <th>1</th>\n",
       "      <td>2020</td>\n",
       "      <td>0.042351</td>\n",
       "      <td>0.041934</td>\n",
       "      <td>0.028745</td>\n",
       "      <td>0.027768</td>\n",
       "      <td>0.023318</td>\n",
       "      <td>0.107856</td>\n",
       "      <td>0.114432</td>\n",
       "      <td>0.191953</td>\n",
       "      <td>0.040534</td>\n",
       "      <td>...</td>\n",
       "      <td>False</td>\n",
       "      <td>False</td>\n",
       "      <td>False</td>\n",
       "      <td>False</td>\n",
       "      <td>False</td>\n",
       "      <td>False</td>\n",
       "      <td>False</td>\n",
       "      <td>True</td>\n",
       "      <td>False</td>\n",
       "      <td>False</td>\n",
       "    </tr>\n",
       "    <tr>\n",
       "      <th>2</th>\n",
       "      <td>2050</td>\n",
       "      <td>0.001387</td>\n",
       "      <td>0.001350</td>\n",
       "      <td>0.001695</td>\n",
       "      <td>0.001332</td>\n",
       "      <td>0.000834</td>\n",
       "      <td>0.058585</td>\n",
       "      <td>0.075483</td>\n",
       "      <td>0.153107</td>\n",
       "      <td>0.020889</td>\n",
       "      <td>...</td>\n",
       "      <td>False</td>\n",
       "      <td>False</td>\n",
       "      <td>False</td>\n",
       "      <td>False</td>\n",
       "      <td>False</td>\n",
       "      <td>False</td>\n",
       "      <td>False</td>\n",
       "      <td>False</td>\n",
       "      <td>False</td>\n",
       "      <td>True</td>\n",
       "    </tr>\n",
       "    <tr>\n",
       "      <th>3</th>\n",
       "      <td>2070</td>\n",
       "      <td>0.000694</td>\n",
       "      <td>0.000657</td>\n",
       "      <td>0.000387</td>\n",
       "      <td>0.000313</td>\n",
       "      <td>0.000157</td>\n",
       "      <td>0.115848</td>\n",
       "      <td>0.137693</td>\n",
       "      <td>0.243631</td>\n",
       "      <td>0.037027</td>\n",
       "      <td>...</td>\n",
       "      <td>False</td>\n",
       "      <td>False</td>\n",
       "      <td>False</td>\n",
       "      <td>False</td>\n",
       "      <td>False</td>\n",
       "      <td>False</td>\n",
       "      <td>False</td>\n",
       "      <td>False</td>\n",
       "      <td>True</td>\n",
       "      <td>False</td>\n",
       "    </tr>\n",
       "    <tr>\n",
       "      <th>4</th>\n",
       "      <td>2090</td>\n",
       "      <td>0.006199</td>\n",
       "      <td>0.006387</td>\n",
       "      <td>0.009687</td>\n",
       "      <td>0.009354</td>\n",
       "      <td>0.007233</td>\n",
       "      <td>0.045342</td>\n",
       "      <td>0.048063</td>\n",
       "      <td>0.088398</td>\n",
       "      <td>0.018184</td>\n",
       "      <td>...</td>\n",
       "      <td>False</td>\n",
       "      <td>False</td>\n",
       "      <td>False</td>\n",
       "      <td>False</td>\n",
       "      <td>False</td>\n",
       "      <td>False</td>\n",
       "      <td>False</td>\n",
       "      <td>False</td>\n",
       "      <td>False</td>\n",
       "      <td>True</td>\n",
       "    </tr>\n",
       "    <tr>\n",
       "      <th>5</th>\n",
       "      <td>2110</td>\n",
       "      <td>0.001864</td>\n",
       "      <td>0.002664</td>\n",
       "      <td>0.003071</td>\n",
       "      <td>0.003088</td>\n",
       "      <td>0.002940</td>\n",
       "      <td>0.043228</td>\n",
       "      <td>0.043827</td>\n",
       "      <td>0.064296</td>\n",
       "      <td>0.023379</td>\n",
       "      <td>...</td>\n",
       "      <td>False</td>\n",
       "      <td>False</td>\n",
       "      <td>False</td>\n",
       "      <td>False</td>\n",
       "      <td>False</td>\n",
       "      <td>False</td>\n",
       "      <td>False</td>\n",
       "      <td>False</td>\n",
       "      <td>False</td>\n",
       "      <td>True</td>\n",
       "    </tr>\n",
       "  </tbody>\n",
       "</table>\n",
       "<p>5 rows × 1573 columns</p>\n",
       "</div>"
      ],
      "text/plain": [
       "   fips_code  Staffed All Beds  Licensed All Beds  Population  \\\n",
       "1       2020          0.042351           0.041934    0.028745   \n",
       "2       2050          0.001387           0.001350    0.001695   \n",
       "3       2070          0.000694           0.000657    0.000387   \n",
       "4       2090          0.006199           0.006387    0.009687   \n",
       "5       2110          0.001864           0.002664    0.003071   \n",
       "\n",
       "   Population (20+)  Population (65+)  Staffed All Beds [Per 1000 People]  \\\n",
       "1          0.027768          0.023318                            0.107856   \n",
       "2          0.001332          0.000834                            0.058585   \n",
       "3          0.000313          0.000157                            0.115848   \n",
       "4          0.009354          0.007233                            0.045342   \n",
       "5          0.003088          0.002940                            0.043228   \n",
       "\n",
       "   Staffed All Beds [Per 1000 Adults (20+)]  \\\n",
       "1                                  0.114432   \n",
       "2                                  0.075483   \n",
       "3                                  0.137693   \n",
       "4                                  0.048063   \n",
       "5                                  0.043827   \n",
       "\n",
       "   Staffed All Beds [Per 1000 Elderly (65+)]  \\\n",
       "1                                   0.191953   \n",
       "2                                   0.153107   \n",
       "3                                   0.243631   \n",
       "4                                   0.088398   \n",
       "5                                   0.064296   \n",
       "\n",
       "   Licensed All Beds [Per 1000 People]  ...  County Name_Yellowstone  \\\n",
       "1                             0.040534  ...                    False   \n",
       "2                             0.020889  ...                    False   \n",
       "3                             0.037027  ...                    False   \n",
       "4                             0.018184  ...                    False   \n",
       "5                             0.023379  ...                    False   \n",
       "\n",
       "   County Name_Yoakum  County Name_Yolo  County Name_York  County Name_Young  \\\n",
       "1               False             False             False              False   \n",
       "2               False             False             False              False   \n",
       "3               False             False             False              False   \n",
       "4               False             False             False              False   \n",
       "5               False             False             False              False   \n",
       "\n",
       "   County Name_Yuba  County Name_Yuma  All Bed Occupancy Rate_high occupancy  \\\n",
       "1             False             False                                   True   \n",
       "2             False             False                                  False   \n",
       "3             False             False                                  False   \n",
       "4             False             False                                  False   \n",
       "5             False             False                                  False   \n",
       "\n",
       "   All Bed Occupancy Rate_low occupancy  \\\n",
       "1                                 False   \n",
       "2                                 False   \n",
       "3                                  True   \n",
       "4                                 False   \n",
       "5                                 False   \n",
       "\n",
       "   All Bed Occupancy Rate_middle occupancy  \n",
       "1                                    False  \n",
       "2                                     True  \n",
       "3                                    False  \n",
       "4                                     True  \n",
       "5                                     True  \n",
       "\n",
       "[5 rows x 1573 columns]"
      ]
     },
     "execution_count": 291,
     "metadata": {},
     "output_type": "execute_result"
    }
   ],
   "source": [
    "# Drop Target Before One-Hot Encoding \n",
    "non_numeric = covid.select_dtypes(include=['object']).columns.tolist()\n",
    "covid_1h = pd.get_dummies(covid, columns = non_numeric)\n",
    "\n",
    "covid_1h.head()"
   ]
  },
  {
   "cell_type": "markdown",
   "metadata": {},
   "source": [
    "### Check Prevelance "
   ]
  },
  {
   "cell_type": "markdown",
   "metadata": {},
   "source": [
    "From the prevelance, we understand that at random there is a 21.9% chance of selecting a county with high occupancy rate. "
   ]
  },
  {
   "cell_type": "code",
   "execution_count": 292,
   "metadata": {},
   "outputs": [
    {
     "name": "stdout",
     "output_type": "stream",
     "text": [
      "All Bed Occupancy Rate_high occupancy\n",
      "False    0.774631\n",
      "True     0.225369\n",
      "Name: proportion, dtype: float64\n",
      "All Bed Occupancy Rate_middle occupancy\n",
      "True     0.505337\n",
      "False    0.494663\n",
      "Name: proportion, dtype: float64\n",
      "All Bed Occupancy Rate_low occupancy\n",
      "False    0.730706\n",
      "True     0.269294\n",
      "Name: proportion, dtype: float64\n"
     ]
    }
   ],
   "source": [
    "print(covid_1h['All Bed Occupancy Rate_high occupancy'].value_counts(normalize=True))\n",
    "print(covid_1h['All Bed Occupancy Rate_middle occupancy'].value_counts(normalize=True))\n",
    "print(covid_1h['All Bed Occupancy Rate_low occupancy'].value_counts(normalize=True))"
   ]
  },
  {
   "cell_type": "markdown",
   "metadata": {},
   "source": [
    "### Partition using train_test_split"
   ]
  },
  {
   "cell_type": "code",
   "execution_count": 293,
   "metadata": {},
   "outputs": [],
   "source": [
    "X = covid_1h.drop(['All Bed Occupancy Rate_high occupancy'], axis=1).values\n",
    "y = covid_1h['All Bed Occupancy Rate_high occupancy'].values "
   ]
  },
  {
   "cell_type": "code",
   "execution_count": 294,
   "metadata": {},
   "outputs": [],
   "source": [
    "X_train, X_test, y_train, y_test = train_test_split(X, y, train_size=0.80, stratify = y, random_state=21)"
   ]
  },
  {
   "cell_type": "markdown",
   "metadata": {},
   "source": [
    "### Create Tuning Set"
   ]
  },
  {
   "cell_type": "code",
   "execution_count": 295,
   "metadata": {},
   "outputs": [],
   "source": [
    "X_tune, X_test, y_tune, y_test = train_test_split(X_test,y_test,  train_size = 0.50, stratify = y_test,random_state=49)"
   ]
  },
  {
   "cell_type": "markdown",
   "metadata": {},
   "source": [
    "#### **Building the Model**"
   ]
  },
  {
   "cell_type": "code",
   "execution_count": 296,
   "metadata": {},
   "outputs": [
    {
     "data": {
      "text/html": [
       "<style>#sk-container-id-8 {color: black;}#sk-container-id-8 pre{padding: 0;}#sk-container-id-8 div.sk-toggleable {background-color: white;}#sk-container-id-8 label.sk-toggleable__label {cursor: pointer;display: block;width: 100%;margin-bottom: 0;padding: 0.3em;box-sizing: border-box;text-align: center;}#sk-container-id-8 label.sk-toggleable__label-arrow:before {content: \"▸\";float: left;margin-right: 0.25em;color: #696969;}#sk-container-id-8 label.sk-toggleable__label-arrow:hover:before {color: black;}#sk-container-id-8 div.sk-estimator:hover label.sk-toggleable__label-arrow:before {color: black;}#sk-container-id-8 div.sk-toggleable__content {max-height: 0;max-width: 0;overflow: hidden;text-align: left;background-color: #f0f8ff;}#sk-container-id-8 div.sk-toggleable__content pre {margin: 0.2em;color: black;border-radius: 0.25em;background-color: #f0f8ff;}#sk-container-id-8 input.sk-toggleable__control:checked~div.sk-toggleable__content {max-height: 200px;max-width: 100%;overflow: auto;}#sk-container-id-8 input.sk-toggleable__control:checked~label.sk-toggleable__label-arrow:before {content: \"▾\";}#sk-container-id-8 div.sk-estimator input.sk-toggleable__control:checked~label.sk-toggleable__label {background-color: #d4ebff;}#sk-container-id-8 div.sk-label input.sk-toggleable__control:checked~label.sk-toggleable__label {background-color: #d4ebff;}#sk-container-id-8 input.sk-hidden--visually {border: 0;clip: rect(1px 1px 1px 1px);clip: rect(1px, 1px, 1px, 1px);height: 1px;margin: -1px;overflow: hidden;padding: 0;position: absolute;width: 1px;}#sk-container-id-8 div.sk-estimator {font-family: monospace;background-color: #f0f8ff;border: 1px dotted black;border-radius: 0.25em;box-sizing: border-box;margin-bottom: 0.5em;}#sk-container-id-8 div.sk-estimator:hover {background-color: #d4ebff;}#sk-container-id-8 div.sk-parallel-item::after {content: \"\";width: 100%;border-bottom: 1px solid gray;flex-grow: 1;}#sk-container-id-8 div.sk-label:hover label.sk-toggleable__label {background-color: #d4ebff;}#sk-container-id-8 div.sk-serial::before {content: \"\";position: absolute;border-left: 1px solid gray;box-sizing: border-box;top: 0;bottom: 0;left: 50%;z-index: 0;}#sk-container-id-8 div.sk-serial {display: flex;flex-direction: column;align-items: center;background-color: white;padding-right: 0.2em;padding-left: 0.2em;position: relative;}#sk-container-id-8 div.sk-item {position: relative;z-index: 1;}#sk-container-id-8 div.sk-parallel {display: flex;align-items: stretch;justify-content: center;background-color: white;position: relative;}#sk-container-id-8 div.sk-item::before, #sk-container-id-8 div.sk-parallel-item::before {content: \"\";position: absolute;border-left: 1px solid gray;box-sizing: border-box;top: 0;bottom: 0;left: 50%;z-index: -1;}#sk-container-id-8 div.sk-parallel-item {display: flex;flex-direction: column;z-index: 1;position: relative;background-color: white;}#sk-container-id-8 div.sk-parallel-item:first-child::after {align-self: flex-end;width: 50%;}#sk-container-id-8 div.sk-parallel-item:last-child::after {align-self: flex-start;width: 50%;}#sk-container-id-8 div.sk-parallel-item:only-child::after {width: 0;}#sk-container-id-8 div.sk-dashed-wrapped {border: 1px dashed gray;margin: 0 0.4em 0.5em 0.4em;box-sizing: border-box;padding-bottom: 0.4em;background-color: white;}#sk-container-id-8 div.sk-label label {font-family: monospace;font-weight: bold;display: inline-block;line-height: 1.2em;}#sk-container-id-8 div.sk-label-container {text-align: center;}#sk-container-id-8 div.sk-container {/* jupyter's `normalize.less` sets `[hidden] { display: none; }` but bootstrap.min.css set `[hidden] { display: none !important; }` so we also need the `!important` here to be able to override the default hidden behavior on the sphinx rendered scikit-learn.org. See: https://github.com/scikit-learn/scikit-learn/issues/21755 */display: inline-block !important;position: relative;}#sk-container-id-8 div.sk-text-repr-fallback {display: none;}</style><div id=\"sk-container-id-8\" class=\"sk-top-container\"><div class=\"sk-text-repr-fallback\"><pre>KNeighborsClassifier(n_neighbors=9)</pre><b>In a Jupyter environment, please rerun this cell to show the HTML representation or trust the notebook. <br />On GitHub, the HTML representation is unable to render, please try loading this page with nbviewer.org.</b></div><div class=\"sk-container\" hidden><div class=\"sk-item\"><div class=\"sk-estimator sk-toggleable\"><input class=\"sk-toggleable__control sk-hidden--visually\" id=\"sk-estimator-id-8\" type=\"checkbox\" checked><label for=\"sk-estimator-id-8\" class=\"sk-toggleable__label sk-toggleable__label-arrow\">KNeighborsClassifier</label><div class=\"sk-toggleable__content\"><pre>KNeighborsClassifier(n_neighbors=9)</pre></div></div></div></div></div>"
      ],
      "text/plain": [
       "KNeighborsClassifier(n_neighbors=9)"
      ]
     },
     "execution_count": 296,
     "metadata": {},
     "output_type": "execute_result"
    }
   ],
   "source": [
    "import random\n",
    "random.seed(1984)\n",
    "\n",
    "covid_KNN = KNeighborsClassifier(n_neighbors=9)\n",
    "covid_KNN.fit(X_train, y_train)"
   ]
  },
  {
   "cell_type": "markdown",
   "metadata": {},
   "source": [
    "### Evaluation Metrics"
   ]
  },
  {
   "cell_type": "code",
   "execution_count": 297,
   "metadata": {},
   "outputs": [
    {
     "name": "stdout",
     "output_type": "stream",
     "text": [
      "[[0.77777778 0.22222222]\n",
      " [0.88888889 0.11111111]\n",
      " [0.88888889 0.11111111]\n",
      " [0.88888889 0.11111111]\n",
      " [0.66666667 0.33333333]]\n"
     ]
    }
   ],
   "source": [
    "covid_prob1 = covid_KNN.predict_proba(X_tune)\n",
    "print(covid_prob1[:5]) "
   ]
  },
  {
   "cell_type": "code",
   "execution_count": 298,
   "metadata": {},
   "outputs": [
    {
     "name": "stdout",
     "output_type": "stream",
     "text": [
      "[False False False False False False False False False False  True False\n",
      "  True False False False False False False False False False False False\n",
      "  True False False False False False False False False False False False\n",
      " False False False False False False  True False False False False False\n",
      " False False False False False False False False False False False False\n",
      "  True False False False False False False False False False False False\n",
      " False False False False False False False False False False False False\n",
      " False False False False  True False False False False False False False\n",
      "  True False False  True False False False False False False  True False\n",
      " False False False False False False False False False False False False\n",
      " False False False False False  True False False False False False False\n",
      " False False False False False False  True False False False  True False\n",
      " False  True False False False False False False False False False False\n",
      " False False False False False False False False False  True False False\n",
      " False False False False False  True False False False False False False\n",
      " False  True False False False False False False  True False False False\n",
      " False  True False False False  True False False False False False False\n",
      " False False False False False False False False False False False False\n",
      "  True False False False False False False  True False False False False\n",
      "  True False False False False False False False False False False False\n",
      " False False False False]\n"
     ]
    }
   ],
   "source": [
    "covid_pred1 = covid_KNN.predict(X_tune)\n",
    "print(covid_pred1)"
   ]
  },
  {
   "cell_type": "code",
   "execution_count": 299,
   "metadata": {},
   "outputs": [
    {
     "name": "stdout",
     "output_type": "stream",
     "text": [
      "   neg_prob   pred  target  pos_prob\n",
      "0  0.777778  False   False  0.222222\n",
      "1  0.888889  False    True  0.111111\n",
      "2  0.888889  False   False  0.111111\n",
      "3  0.888889  False   False  0.111111\n",
      "4  0.666667  False   False  0.333333\n"
     ]
    }
   ],
   "source": [
    "final_model= pd.DataFrame({'neg_prob':covid_prob1[:, 0], 'pred':covid_pred1,'target':y_tune, 'pos_prob':covid_prob1[:, 1]})\n",
    "print(final_model.head())"
   ]
  },
  {
   "cell_type": "markdown",
   "metadata": {},
   "source": [
    "### Check Model's Accuracy on Test Data"
   ]
  },
  {
   "cell_type": "code",
   "execution_count": 300,
   "metadata": {},
   "outputs": [
    {
     "name": "stdout",
     "output_type": "stream",
     "text": [
      "0.7827868852459017\n"
     ]
    }
   ],
   "source": [
    "print(covid_KNN.score(X_test, y_test))"
   ]
  },
  {
   "cell_type": "markdown",
   "metadata": {},
   "source": [
    "### Check Model's Accuracy on Validation Data"
   ]
  },
  {
   "cell_type": "code",
   "execution_count": 301,
   "metadata": {},
   "outputs": [
    {
     "name": "stdout",
     "output_type": "stream",
     "text": [
      "0.7991803278688525\n"
     ]
    }
   ],
   "source": [
    "print(covid_KNN.score(X_tune, y_tune))"
   ]
  },
  {
   "cell_type": "markdown",
   "metadata": {},
   "source": [
    "### Confusion Matrix"
   ]
  },
  {
   "cell_type": "code",
   "execution_count": 302,
   "metadata": {},
   "outputs": [
    {
     "name": "stdout",
     "output_type": "stream",
     "text": [
      "[[181   8]\n",
      " [ 41  14]]\n",
      "<sklearn.metrics._plot.confusion_matrix.ConfusionMatrixDisplay object at 0x14e7331d0>\n"
     ]
    },
    {
     "data": {
      "image/png": "[encoded data removed]",
      "text/plain": [
       "<Figure size 640x480 with 1 Axes>"
      ]
     },
     "metadata": {},
     "output_type": "display_data"
    }
   ],
   "source": [
    "print(metrics.confusion_matrix(final_model.target,final_model.pred)) \n",
    "print(metrics.ConfusionMatrixDisplay.from_predictions(final_model.target,final_model.pred, display_labels = [False, True], colorbar=False))"
   ]
  },
  {
   "cell_type": "code",
   "execution_count": 303,
   "metadata": {},
   "outputs": [
    {
     "name": "stdout",
     "output_type": "stream",
     "text": [
      "target\n",
      "False    189\n",
      "True      55\n",
      "Name: count, dtype: int64\n"
     ]
    }
   ],
   "source": [
    "print(final_model.target.value_counts())"
   ]
  },
  {
   "cell_type": "markdown",
   "metadata": {},
   "source": [
    "### AUC and ROC Curve "
   ]
  },
  {
   "cell_type": "code",
   "execution_count": 304,
   "metadata": {},
   "outputs": [
    {
     "name": "stdout",
     "output_type": "stream",
     "text": [
      "<sklearn.metrics._plot.roc_curve.RocCurveDisplay object at 0x14fb9a250>\n"
     ]
    },
    {
     "data": {
      "text/plain": [
       "Text(0.5, 0, 'False Positive Rate')"
      ]
     },
     "execution_count": 304,
     "metadata": {},
     "output_type": "execute_result"
    },
    {
     "data": {
      "image/png": "[encoded data removed]",
      "text/plain": [
       "<Figure size 640x480 with 1 Axes>"
      ]
     },
     "metadata": {},
     "output_type": "display_data"
    }
   ],
   "source": [
    "print(metrics.RocCurveDisplay.from_predictions(final_model.target, final_model.pos_prob))\n",
    "plt.plot([0, 1], [0, 1],'r--')\n",
    "plt.ylabel('True Positive Rate')\n",
    "plt.xlabel('False Positive Rate')"
   ]
  },
  {
   "cell_type": "markdown",
   "metadata": {},
   "source": [
    "### AUC Value"
   ]
  },
  {
   "cell_type": "code",
   "execution_count": 305,
   "metadata": {},
   "outputs": [
    {
     "name": "stdout",
     "output_type": "stream",
     "text": [
      "0.6946608946608948\n"
     ]
    }
   ],
   "source": [
    "print(metrics.roc_auc_score(final_model.target, final_model.pos_prob))"
   ]
  },
  {
   "cell_type": "markdown",
   "metadata": {},
   "source": [
    "### Choose K"
   ]
  },
  {
   "cell_type": "code",
   "execution_count": 306,
   "metadata": {},
   "outputs": [],
   "source": [
    "def chooseK(k, x_train, y_train, x_test, y_test): # 5 parameters - y is target, x is features, need k size\n",
    "    random.seed(1)\n",
    "    print(\"calculating... \", k, \"k\")\n",
    "    class_knn = KNeighborsClassifier(n_neighbors = k) # actual model / target\n",
    "    class_knn.fit(x_train, y_train) # train and score\n",
    "    \n",
    "    # calculate accuracy\n",
    "    accu = class_knn.score(x_test, y_test)\n",
    "    return accu"
   ]
  },
  {
   "cell_type": "code",
   "execution_count": 307,
   "metadata": {},
   "outputs": [
    {
     "name": "stdout",
     "output_type": "stream",
     "text": [
      "calculating...  1 k\n",
      "calculating...  3 k\n",
      "calculating...  5 k\n",
      "calculating...  7 k\n",
      "calculating...  9 k\n",
      "calculating...  11 k\n",
      "calculating...  13 k\n",
      "calculating...  15 k\n",
      "calculating...  17 k\n"
     ]
    }
   ],
   "source": [
    "test = pd.DataFrame({'k':list(range(1,18,2)), \n",
    "                     'accu':[chooseK(i, X_train, y_train, X_test, y_test) for i in list(range(1, 18, 2))]})\n"
   ]
  },
  {
   "cell_type": "code",
   "execution_count": 308,
   "metadata": {},
   "outputs": [
    {
     "name": "stdout",
     "output_type": "stream",
     "text": [
      "    k      accu\n",
      "7  15  0.786885\n",
      "4   9  0.782787\n",
      "3   7  0.778689\n",
      "5  11  0.778689\n",
      "6  13  0.778689\n"
     ]
    }
   ],
   "source": [
    "test2 = test.sort_values(by=['accu'], ascending=False)\n",
    "print(test2.head())"
   ]
  },
  {
   "cell_type": "code",
   "execution_count": 309,
   "metadata": {},
   "outputs": [
    {
     "data": {
      "image/png": "[encoded data removed]",
      "text/plain": [
       "<Figure size 640x480 with 1 Axes>"
      ]
     },
     "metadata": {},
     "output_type": "display_data"
    }
   ],
   "source": [
    "plt.plot(test['k'], test['accu'])\n",
    "plt.xlabel('k')\n",
    "plt.ylabel('Accuracy')\n",
    "plt.title('Model Accuracy')\n",
    "plt.show()"
   ]
  },
  {
   "cell_type": "code",
   "execution_count": 310,
   "metadata": {},
   "outputs": [],
   "source": [
    "test_probs = covid_KNN.predict_proba(X_test)\n",
    "test_preds = covid_KNN.predict(X_test)"
   ]
  },
  {
   "cell_type": "code",
   "execution_count": 311,
   "metadata": {},
   "outputs": [
    {
     "data": {
      "text/html": [
       "<div>\n",
       "<style scoped>\n",
       "    .dataframe tbody tr th:only-of-type {\n",
       "        vertical-align: middle;\n",
       "    }\n",
       "\n",
       "    .dataframe tbody tr th {\n",
       "        vertical-align: top;\n",
       "    }\n",
       "\n",
       "    .dataframe thead th {\n",
       "        text-align: right;\n",
       "    }\n",
       "</style>\n",
       "<table border=\"1\" class=\"dataframe\">\n",
       "  <thead>\n",
       "    <tr style=\"text-align: right;\">\n",
       "      <th></th>\n",
       "      <th>not_high_occupancy_prob</th>\n",
       "      <th>high_occupancy_prob</th>\n",
       "    </tr>\n",
       "  </thead>\n",
       "  <tbody>\n",
       "    <tr>\n",
       "      <th>0</th>\n",
       "      <td>1.000000</td>\n",
       "      <td>0.000000</td>\n",
       "    </tr>\n",
       "    <tr>\n",
       "      <th>1</th>\n",
       "      <td>0.777778</td>\n",
       "      <td>0.222222</td>\n",
       "    </tr>\n",
       "    <tr>\n",
       "      <th>2</th>\n",
       "      <td>0.888889</td>\n",
       "      <td>0.111111</td>\n",
       "    </tr>\n",
       "    <tr>\n",
       "      <th>3</th>\n",
       "      <td>0.555556</td>\n",
       "      <td>0.444444</td>\n",
       "    </tr>\n",
       "    <tr>\n",
       "      <th>4</th>\n",
       "      <td>0.888889</td>\n",
       "      <td>0.111111</td>\n",
       "    </tr>\n",
       "  </tbody>\n",
       "</table>\n",
       "</div>"
      ],
      "text/plain": [
       "   not_high_occupancy_prob  high_occupancy_prob\n",
       "0                 1.000000             0.000000\n",
       "1                 0.777778             0.222222\n",
       "2                 0.888889             0.111111\n",
       "3                 0.555556             0.444444\n",
       "4                 0.888889             0.111111"
      ]
     },
     "execution_count": 311,
     "metadata": {},
     "output_type": "execute_result"
    }
   ],
   "source": [
    "test_probabilities = pd.DataFrame(test_probs, columns = ['not_high_occupancy_prob', 'high_occupancy_prob'])\n",
    "test_probabilities.head()"
   ]
  },
  {
   "cell_type": "code",
   "execution_count": 312,
   "metadata": {},
   "outputs": [
    {
     "data": {
      "text/html": [
       "<div>\n",
       "<style scoped>\n",
       "    .dataframe tbody tr th:only-of-type {\n",
       "        vertical-align: middle;\n",
       "    }\n",
       "\n",
       "    .dataframe tbody tr th {\n",
       "        vertical-align: top;\n",
       "    }\n",
       "\n",
       "    .dataframe thead th {\n",
       "        text-align: right;\n",
       "    }\n",
       "</style>\n",
       "<table border=\"1\" class=\"dataframe\">\n",
       "  <thead>\n",
       "    <tr style=\"text-align: right;\">\n",
       "      <th></th>\n",
       "      <th>actual_class</th>\n",
       "      <th>pred_class</th>\n",
       "      <th>pred_prob</th>\n",
       "    </tr>\n",
       "  </thead>\n",
       "  <tbody>\n",
       "    <tr>\n",
       "      <th>0</th>\n",
       "      <td>False</td>\n",
       "      <td>False</td>\n",
       "      <td>0.000000</td>\n",
       "    </tr>\n",
       "    <tr>\n",
       "      <th>1</th>\n",
       "      <td>False</td>\n",
       "      <td>False</td>\n",
       "      <td>0.222222</td>\n",
       "    </tr>\n",
       "    <tr>\n",
       "      <th>2</th>\n",
       "      <td>False</td>\n",
       "      <td>False</td>\n",
       "      <td>0.111111</td>\n",
       "    </tr>\n",
       "    <tr>\n",
       "      <th>3</th>\n",
       "      <td>False</td>\n",
       "      <td>False</td>\n",
       "      <td>0.444444</td>\n",
       "    </tr>\n",
       "    <tr>\n",
       "      <th>4</th>\n",
       "      <td>False</td>\n",
       "      <td>False</td>\n",
       "      <td>0.111111</td>\n",
       "    </tr>\n",
       "  </tbody>\n",
       "</table>\n",
       "</div>"
      ],
      "text/plain": [
       "   actual_class  pred_class  pred_prob\n",
       "0         False       False   0.000000\n",
       "1         False       False   0.222222\n",
       "2         False       False   0.111111\n",
       "3         False       False   0.444444\n",
       "4         False       False   0.111111"
      ]
     },
     "execution_count": 312,
     "metadata": {},
     "output_type": "execute_result"
    }
   ],
   "source": [
    "final_model = pd.DataFrame({'actual_class': y_test.tolist(),\n",
    "                           'pred_class': test_preds.tolist(),\n",
    "                           'pred_prob': test_probabilities['high_occupancy_prob']})\n",
    "final_model.head()"
   ]
  },
  {
   "cell_type": "code",
   "execution_count": 313,
   "metadata": {},
   "outputs": [],
   "source": [
    "final_model.actual_class = final_model.actual_class.astype('category')\n",
    "final_model.pred_class = final_model.pred_class.astype('category')"
   ]
  },
  {
   "cell_type": "code",
   "execution_count": 314,
   "metadata": {},
   "outputs": [
    {
     "name": "stderr",
     "output_type": "stream",
     "text": [
      "/Library/Frameworks/Python.framework/Versions/3.11/lib/python3.11/site-packages/seaborn/_oldcore.py:1498: FutureWarning: is_categorical_dtype is deprecated and will be removed in a future version. Use isinstance(dtype, CategoricalDtype) instead\n",
      "  if pd.api.types.is_categorical_dtype(vector):\n",
      "/Library/Frameworks/Python.framework/Versions/3.11/lib/python3.11/site-packages/seaborn/_oldcore.py:1119: FutureWarning: use_inf_as_na option is deprecated and will be removed in a future version. Convert inf values to NaN before operating instead.\n",
      "  with pd.option_context('mode.use_inf_as_na', True):\n"
     ]
    },
    {
     "data": {
      "text/plain": [
       "<seaborn.axisgrid.FacetGrid at 0x14e923a10>"
      ]
     },
     "execution_count": 314,
     "metadata": {},
     "output_type": "execute_result"
    },
    {
     "data": {
      "image/png": "[encoded data removed]",
      "text/plain": [
       "<Figure size 500x500 with 1 Axes>"
      ]
     },
     "metadata": {},
     "output_type": "display_data"
    }
   ],
   "source": [
    "sns.displot(final_model, x=\"pred_prob\", kind=\"kde\")"
   ]
  },
  {
   "cell_type": "code",
   "execution_count": 315,
   "metadata": {},
   "outputs": [
    {
     "name": "stdout",
     "output_type": "stream",
     "text": [
      "pred_prob\n",
      "0.111111    81\n",
      "0.222222    49\n",
      "0.000000    47\n",
      "0.333333    24\n",
      "0.444444    23\n",
      "0.555556     7\n",
      "0.777778     6\n",
      "0.666667     5\n",
      "0.888889     2\n",
      "Name: count, dtype: int64\n"
     ]
    }
   ],
   "source": [
    "print(final_model.pred_prob.value_counts())"
   ]
  },
  {
   "cell_type": "markdown",
   "metadata": {},
   "source": [
    "### Adjusting Threshold"
   ]
  },
  {
   "cell_type": "code",
   "execution_count": 316,
   "metadata": {},
   "outputs": [],
   "source": [
    "def adjust_thres(x, y, z):\n",
    "    \"\"\"\n",
    "    x=pred_probabilities\n",
    "    y=threshold\n",
    "    z=tune_outcome\n",
    "    \"\"\"\n",
    "    thres = pd.DataFrame({'new_preds': [1 if i > y else 0 for i in x]})\n",
    "    thres.new_preds = thres.new_preds.astype('category')\n",
    "    con_mat = metrics.confusion_matrix(z, thres)  \n",
    "    print(con_mat)"
   ]
  },
  {
   "cell_type": "markdown",
   "metadata": {},
   "source": [
    "## Original Model "
   ]
  },
  {
   "cell_type": "code",
   "execution_count": 317,
   "metadata": {},
   "outputs": [
    {
     "name": "stdout",
     "output_type": "stream",
     "text": [
      "<sklearn.metrics._plot.confusion_matrix.ConfusionMatrixDisplay object at 0x14fb54d10>\n"
     ]
    },
    {
     "data": {
      "image/png": "[encoded data removed]",
      "text/plain": [
       "<Figure size 640x480 with 1 Axes>"
      ]
     },
     "metadata": {},
     "output_type": "display_data"
    }
   ],
   "source": [
    "\n",
    "confusion_matrix(final_model.actual_class, final_model.pred_class)   # original model\n",
    "print(metrics.ConfusionMatrixDisplay.from_predictions(final_model.actual_class,final_model.pred_class, display_labels = [False, True], colorbar=False))\n"
   ]
  },
  {
   "cell_type": "markdown",
   "metadata": {},
   "source": [
    "### Adjusting Threshold to 88%"
   ]
  },
  {
   "cell_type": "code",
   "execution_count": 318,
   "metadata": {},
   "outputs": [
    {
     "name": "stdout",
     "output_type": "stream",
     "text": [
      "[[187   2]\n",
      " [ 55   0]]\n"
     ]
    }
   ],
   "source": [
    "adjust_thres(final_model.pred_prob, .88, final_model.actual_class)"
   ]
  },
  {
   "cell_type": "markdown",
   "metadata": {},
   "source": [
    "### Adjusting Threshold to 77%"
   ]
  },
  {
   "cell_type": "code",
   "execution_count": 319,
   "metadata": {},
   "outputs": [
    {
     "name": "stdout",
     "output_type": "stream",
     "text": [
      "[[185   4]\n",
      " [ 51   4]]\n"
     ]
    }
   ],
   "source": [
    "adjust_thres(final_model.pred_prob, .77, final_model.actual_class) "
   ]
  },
  {
   "cell_type": "markdown",
   "metadata": {},
   "source": [
    "### Adjusting Threshold to 66% "
   ]
  },
  {
   "cell_type": "code",
   "execution_count": 320,
   "metadata": {},
   "outputs": [
    {
     "name": "stdout",
     "output_type": "stream",
     "text": [
      "[[183   6]\n",
      " [ 48   7]]\n"
     ]
    }
   ],
   "source": [
    "adjust_thres(final_model.pred_prob, .66, final_model.actual_class) "
   ]
  }
 ],
 "metadata": {
  "kernelspec": {
   "display_name": "Python 3",
   "language": "python",
   "name": "python3"
  },
  "language_info": {
   "codemirror_mode": {
    "name": "ipython",
    "version": 3
   },
   "file_extension": ".py",
   "mimetype": "text/x-python",
   "name": "python",
   "nbconvert_exporter": "python",
   "pygments_lexer": "ipython3",
   "version": "3.11.3"
  }
 },
 "nbformat": 4,
 "nbformat_minor": 2
}
