{
 "cells": [
  {
   "cell_type": "markdown",
   "metadata": {},
   "source": [
    "# DS - 3001 Final Project"
   ]
  },
  {
   "cell_type": "code",
   "execution_count": 4,
   "metadata": {},
   "outputs": [],
   "source": [
    "import pandas as pd\n",
    "import numpy as np\n",
    "import matplotlib.pyplot as plt\n",
    "from sklearn.model_selection import train_test_split \n",
    "from sklearn.preprocessing import MinMaxScaler\n",
    "from sklearn.neighbors import KNeighborsClassifier\n",
    "from sklearn import metrics"
   ]
  },
  {
   "cell_type": "code",
   "execution_count": 5,
   "metadata": {},
   "outputs": [
    {
     "name": "stdout",
     "output_type": "stream",
     "text": [
      "<class 'pandas.core.frame.DataFrame'>\n",
      "RangeIndex: 2537 entries, 0 to 2536\n",
      "Data columns (total 22 columns):\n",
      " #   Column                                      Non-Null Count  Dtype  \n",
      "---  ------                                      --------------  -----  \n",
      " 0   fips_code                                   2537 non-null   int64  \n",
      " 1   State                                       2537 non-null   object \n",
      " 2   County Name                                 2537 non-null   object \n",
      " 3   Staffed All Beds                            2537 non-null   float64\n",
      " 4   Staffed ICU Beds                            2537 non-null   float64\n",
      " 5   Licensed All Beds                           2537 non-null   float64\n",
      " 6   All Bed Occupancy Rate                      2460 non-null   float64\n",
      " 7   ICU Bed Occupancy Rate                      1410 non-null   float64\n",
      " 8   Population                                  2537 non-null   float64\n",
      " 9   Population (20+)                            2537 non-null   float64\n",
      " 10  Population (65+)                            2537 non-null   float64\n",
      " 11  Staffed All Beds [Per 1000 People]          2509 non-null   float64\n",
      " 12  Staffed All Beds [Per 1000 Adults (20+)]    2509 non-null   float64\n",
      " 13  Staffed All Beds [Per 1000 Elderly (65+)]   2509 non-null   float64\n",
      " 14  Staffed ICU Beds [Per 1000 People]          2509 non-null   float64\n",
      " 15  Staffed ICU Beds [Per 1000 Adults (20+)]    2509 non-null   float64\n",
      " 16  Staffed ICU Beds [Per 1000 Elderly (65+)]   2509 non-null   float64\n",
      " 17  Licensed All Beds [Per 1000 People]         2509 non-null   float64\n",
      " 18  Licensed All Beds [Per 1000 Adults (20+)]   2509 non-null   float64\n",
      " 19  Licensed All Beds [Per 1000 Elderly (65+)]  2509 non-null   float64\n",
      " 20  ICU Bed Source                              2537 non-null   object \n",
      " 21  ICU Bed Source Last Updated                 2 non-null      object \n",
      "dtypes: float64(17), int64(1), object(4)\n",
      "memory usage: 436.2+ KB\n"
     ]
    }
   ],
   "source": [
    "covid = pd.read_csv(\"/Users/courtneynguyen2/Documents/myDS-3001/covid.csv\")\n",
    "covid.info()"
   ]
  },
  {
   "cell_type": "markdown",
   "metadata": {},
   "source": []
  },
  {
   "cell_type": "markdown",
   "metadata": {},
   "source": [
    "## **Question:** The CDC must determine the national healthcare system’s capacity to handle the COVID-19 pandemic and its severity. They would like to determine whether or not a county’s healthcare system capacity (the number of occupied beds) is at high occupancy (seen at 0.7 or more) based on county population, state, number of staffed beds per 1000 people, licensed all beds, etc.\n"
   ]
  },
  {
   "cell_type": "code",
   "execution_count": null,
   "metadata": {},
   "outputs": [],
   "source": []
  }
 ],
 "metadata": {
  "kernelspec": {
   "display_name": "Python 3",
   "language": "python",
   "name": "python3"
  },
  "language_info": {
   "codemirror_mode": {
    "name": "ipython",
    "version": 3
   },
   "file_extension": ".py",
   "mimetype": "text/x-python",
   "name": "python",
   "nbconvert_exporter": "python",
   "pygments_lexer": "ipython3",
   "version": "3.11.3"
  }
 },
 "nbformat": 4,
 "nbformat_minor": 2
}
