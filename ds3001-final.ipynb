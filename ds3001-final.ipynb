{
 "cells": [
  {
   "cell_type": "markdown",
   "metadata": {},
   "source": [
    "## DS - 3001 Final Project: A Look into Healthcare System Capacity\n",
    "#### Amanda Lin, Courtney Nguyen, Cole Blanton, Emaan Qillawala"
   ]
  },
  {
   "cell_type": "code",
   "execution_count": 355,
   "metadata": {},
   "outputs": [],
   "source": [
    "import pandas as pd\n",
    "import numpy as np\n",
    "import matplotlib.pyplot as plt\n",
    "from sklearn.model_selection import train_test_split \n",
    "from sklearn.preprocessing import MinMaxScaler\n",
    "from sklearn.neighbors import KNeighborsClassifier\n",
    "from sklearn import metrics\n",
    "import seaborn as sns\n",
    "from sklearn.calibration import LabelEncoder"
   ]
  },
  {
   "cell_type": "markdown",
   "metadata": {},
   "source": [
    "### 1. Question and background information on the data and why you are asking this question(s).  References to previous research/evidence generally would be nice to include."
   ]
  },
  {
   "cell_type": "markdown",
   "metadata": {},
   "source": [
    "### **Question Problem:** The CDC must determine the national healthcare system’s capacity to handle the COVID-19 pandemic and its severity. They would like to determine whether or not a county’s healthcare system capacity (the number of occupied beds) is at high occupancy (seen at 0.7 or more) based on county population, state, number of staffed beds per 1000 people, licensed all beds, etc.\n"
   ]
  },
  {
   "cell_type": "code",
   "execution_count": 356,
   "metadata": {},
   "outputs": [
    {
     "name": "stdout",
     "output_type": "stream",
     "text": [
      "<class 'pandas.core.frame.DataFrame'>\n",
      "RangeIndex: 2537 entries, 0 to 2536\n",
      "Data columns (total 22 columns):\n",
      " #   Column                                      Non-Null Count  Dtype  \n",
      "---  ------                                      --------------  -----  \n",
      " 0   fips_code                                   2537 non-null   int64  \n",
      " 1   State                                       2537 non-null   object \n",
      " 2   County Name                                 2537 non-null   object \n",
      " 3   Staffed All Beds                            2537 non-null   float64\n",
      " 4   Staffed ICU Beds                            2537 non-null   float64\n",
      " 5   Licensed All Beds                           2537 non-null   float64\n",
      " 6   All Bed Occupancy Rate                      2460 non-null   float64\n",
      " 7   ICU Bed Occupancy Rate                      1410 non-null   float64\n",
      " 8   Population                                  2537 non-null   float64\n",
      " 9   Population (20+)                            2537 non-null   float64\n",
      " 10  Population (65+)                            2537 non-null   float64\n",
      " 11  Staffed All Beds [Per 1000 People]          2509 non-null   float64\n",
      " 12  Staffed All Beds [Per 1000 Adults (20+)]    2509 non-null   float64\n",
      " 13  Staffed All Beds [Per 1000 Elderly (65+)]   2509 non-null   float64\n",
      " 14  Staffed ICU Beds [Per 1000 People]          2509 non-null   float64\n",
      " 15  Staffed ICU Beds [Per 1000 Adults (20+)]    2509 non-null   float64\n",
      " 16  Staffed ICU Beds [Per 1000 Elderly (65+)]   2509 non-null   float64\n",
      " 17  Licensed All Beds [Per 1000 People]         2509 non-null   float64\n",
      " 18  Licensed All Beds [Per 1000 Adults (20+)]   2509 non-null   float64\n",
      " 19  Licensed All Beds [Per 1000 Elderly (65+)]  2509 non-null   float64\n",
      " 20  ICU Bed Source                              2537 non-null   object \n",
      " 21  ICU Bed Source Last Updated                 2 non-null      object \n",
      "dtypes: float64(17), int64(1), object(4)\n",
      "memory usage: 436.2+ KB\n"
     ]
    }
   ],
   "source": [
    "covid = pd.read_csv(\"/Users/courtneynguyen2/Documents/myDS-3001/covid.csv\")\n",
    "covid.info()"
   ]
  },
  {
   "cell_type": "markdown",
   "metadata": {},
   "source": [
    "### **Clean Data** "
   ]
  },
  {
   "cell_type": "markdown",
   "metadata": {},
   "source": [
    "#### Drop Variables and NAs"
   ]
  },
  {
   "cell_type": "code",
   "execution_count": 357,
   "metadata": {},
   "outputs": [],
   "source": [
    "covid = covid.drop(columns=['Staffed ICU Beds', 'ICU Bed Occupancy Rate', 'Staffed ICU Beds [Per 1000 People]', 'Staffed ICU Beds [Per 1000 Adults (20+)]', 'Staffed ICU Beds [Per 1000 Elderly (65+)]','ICU Bed Source', 'ICU Bed Source Last Updated'])\n",
    "covid = covid.dropna()"
   ]
  },
  {
   "cell_type": "markdown",
   "metadata": {},
   "source": [
    "### 2. Exploratory Data Analysis – Initial summary statistics and graphs with an emphasis on variables you believe to be important for your analysis."
   ]
  },
  {
   "cell_type": "markdown",
   "metadata": {},
   "source": [
    "### **Target Variable:** All Bed Occupancy Rate"
   ]
  },
  {
   "cell_type": "code",
   "execution_count": 358,
   "metadata": {},
   "outputs": [
    {
     "data": {
      "text/html": [
       "<div>\n",
       "<style scoped>\n",
       "    .dataframe tbody tr th:only-of-type {\n",
       "        vertical-align: middle;\n",
       "    }\n",
       "\n",
       "    .dataframe tbody tr th {\n",
       "        vertical-align: top;\n",
       "    }\n",
       "\n",
       "    .dataframe thead th {\n",
       "        text-align: right;\n",
       "    }\n",
       "</style>\n",
       "<table border=\"1\" class=\"dataframe\">\n",
       "  <thead>\n",
       "    <tr style=\"text-align: right;\">\n",
       "      <th></th>\n",
       "      <th>fips_code</th>\n",
       "      <th>State</th>\n",
       "      <th>County Name</th>\n",
       "      <th>Staffed All Beds</th>\n",
       "      <th>Licensed All Beds</th>\n",
       "      <th>All Bed Occupancy Rate</th>\n",
       "      <th>Population</th>\n",
       "      <th>Population (20+)</th>\n",
       "      <th>Population (65+)</th>\n",
       "      <th>Staffed All Beds [Per 1000 People]</th>\n",
       "      <th>Staffed All Beds [Per 1000 Adults (20+)]</th>\n",
       "      <th>Staffed All Beds [Per 1000 Elderly (65+)]</th>\n",
       "      <th>Licensed All Beds [Per 1000 People]</th>\n",
       "      <th>Licensed All Beds [Per 1000 Adults (20+)]</th>\n",
       "      <th>Licensed All Beds [Per 1000 Elderly (65+)]</th>\n",
       "    </tr>\n",
       "  </thead>\n",
       "  <tbody>\n",
       "    <tr>\n",
       "      <th>1</th>\n",
       "      <td>2020</td>\n",
       "      <td>AK</td>\n",
       "      <td>Anchorage</td>\n",
       "      <td>979.0</td>\n",
       "      <td>1149.0</td>\n",
       "      <td>0.66</td>\n",
       "      <td>291538.0</td>\n",
       "      <td>213508.0</td>\n",
       "      <td>32333.0</td>\n",
       "      <td>3.358</td>\n",
       "      <td>4.585</td>\n",
       "      <td>30.279</td>\n",
       "      <td>3.941</td>\n",
       "      <td>5.382</td>\n",
       "      <td>35.536</td>\n",
       "    </tr>\n",
       "    <tr>\n",
       "      <th>2</th>\n",
       "      <td>2050</td>\n",
       "      <td>AK</td>\n",
       "      <td>Bethel</td>\n",
       "      <td>34.0</td>\n",
       "      <td>37.0</td>\n",
       "      <td>0.40</td>\n",
       "      <td>18216.0</td>\n",
       "      <td>11082.0</td>\n",
       "      <td>1402.0</td>\n",
       "      <td>1.866</td>\n",
       "      <td>3.068</td>\n",
       "      <td>24.251</td>\n",
       "      <td>2.031</td>\n",
       "      <td>3.339</td>\n",
       "      <td>26.391</td>\n",
       "    </tr>\n",
       "    <tr>\n",
       "      <th>3</th>\n",
       "      <td>2070</td>\n",
       "      <td>AK</td>\n",
       "      <td>Dillingham</td>\n",
       "      <td>18.0</td>\n",
       "      <td>18.0</td>\n",
       "      <td>0.15</td>\n",
       "      <td>5000.0</td>\n",
       "      <td>3278.0</td>\n",
       "      <td>470.0</td>\n",
       "      <td>3.600</td>\n",
       "      <td>5.491</td>\n",
       "      <td>38.298</td>\n",
       "      <td>3.600</td>\n",
       "      <td>5.491</td>\n",
       "      <td>38.298</td>\n",
       "    </tr>\n",
       "    <tr>\n",
       "      <th>4</th>\n",
       "      <td>2090</td>\n",
       "      <td>AK</td>\n",
       "      <td>Fairbanks North Star</td>\n",
       "      <td>145.0</td>\n",
       "      <td>175.0</td>\n",
       "      <td>0.46</td>\n",
       "      <td>98971.0</td>\n",
       "      <td>72505.0</td>\n",
       "      <td>10204.0</td>\n",
       "      <td>1.465</td>\n",
       "      <td>2.000</td>\n",
       "      <td>14.210</td>\n",
       "      <td>1.768</td>\n",
       "      <td>2.414</td>\n",
       "      <td>17.150</td>\n",
       "    </tr>\n",
       "    <tr>\n",
       "      <th>5</th>\n",
       "      <td>2110</td>\n",
       "      <td>AK</td>\n",
       "      <td>Juneau</td>\n",
       "      <td>45.0</td>\n",
       "      <td>73.0</td>\n",
       "      <td>0.41</td>\n",
       "      <td>32113.0</td>\n",
       "      <td>24525.0</td>\n",
       "      <td>4298.0</td>\n",
       "      <td>1.401</td>\n",
       "      <td>1.835</td>\n",
       "      <td>10.470</td>\n",
       "      <td>2.273</td>\n",
       "      <td>2.977</td>\n",
       "      <td>16.985</td>\n",
       "    </tr>\n",
       "  </tbody>\n",
       "</table>\n",
       "</div>"
      ],
      "text/plain": [
       "   fips_code State           County Name  Staffed All Beds  Licensed All Beds  \\\n",
       "1       2020    AK             Anchorage             979.0             1149.0   \n",
       "2       2050    AK                Bethel              34.0               37.0   \n",
       "3       2070    AK            Dillingham              18.0               18.0   \n",
       "4       2090    AK  Fairbanks North Star             145.0              175.0   \n",
       "5       2110    AK                Juneau              45.0               73.0   \n",
       "\n",
       "   All Bed Occupancy Rate  Population  Population (20+)  Population (65+)  \\\n",
       "1                    0.66    291538.0          213508.0           32333.0   \n",
       "2                    0.40     18216.0           11082.0            1402.0   \n",
       "3                    0.15      5000.0            3278.0             470.0   \n",
       "4                    0.46     98971.0           72505.0           10204.0   \n",
       "5                    0.41     32113.0           24525.0            4298.0   \n",
       "\n",
       "   Staffed All Beds [Per 1000 People]  \\\n",
       "1                               3.358   \n",
       "2                               1.866   \n",
       "3                               3.600   \n",
       "4                               1.465   \n",
       "5                               1.401   \n",
       "\n",
       "   Staffed All Beds [Per 1000 Adults (20+)]  \\\n",
       "1                                     4.585   \n",
       "2                                     3.068   \n",
       "3                                     5.491   \n",
       "4                                     2.000   \n",
       "5                                     1.835   \n",
       "\n",
       "   Staffed All Beds [Per 1000 Elderly (65+)]  \\\n",
       "1                                     30.279   \n",
       "2                                     24.251   \n",
       "3                                     38.298   \n",
       "4                                     14.210   \n",
       "5                                     10.470   \n",
       "\n",
       "   Licensed All Beds [Per 1000 People]  \\\n",
       "1                                3.941   \n",
       "2                                2.031   \n",
       "3                                3.600   \n",
       "4                                1.768   \n",
       "5                                2.273   \n",
       "\n",
       "   Licensed All Beds [Per 1000 Adults (20+)]  \\\n",
       "1                                      5.382   \n",
       "2                                      3.339   \n",
       "3                                      5.491   \n",
       "4                                      2.414   \n",
       "5                                      2.977   \n",
       "\n",
       "   Licensed All Beds [Per 1000 Elderly (65+)]  \n",
       "1                                      35.536  \n",
       "2                                      26.391  \n",
       "3                                      38.298  \n",
       "4                                      17.150  \n",
       "5                                      16.985  "
      ]
     },
     "execution_count": 358,
     "metadata": {},
     "output_type": "execute_result"
    }
   ],
   "source": [
    "covid.head()"
   ]
  },
  {
   "cell_type": "markdown",
   "metadata": {},
   "source": [
    "### Checking Composition of Data"
   ]
  },
  {
   "cell_type": "code",
   "execution_count": 359,
   "metadata": {},
   "outputs": [
    {
     "name": "stdout",
     "output_type": "stream",
     "text": [
      "<class 'pandas.core.frame.DataFrame'>\n",
      "Index: 2436 entries, 1 to 2536\n",
      "Data columns (total 15 columns):\n",
      " #   Column                                      Non-Null Count  Dtype  \n",
      "---  ------                                      --------------  -----  \n",
      " 0   fips_code                                   2436 non-null   int64  \n",
      " 1   State                                       2436 non-null   object \n",
      " 2   County Name                                 2436 non-null   object \n",
      " 3   Staffed All Beds                            2436 non-null   float64\n",
      " 4   Licensed All Beds                           2436 non-null   float64\n",
      " 5   All Bed Occupancy Rate                      2436 non-null   float64\n",
      " 6   Population                                  2436 non-null   float64\n",
      " 7   Population (20+)                            2436 non-null   float64\n",
      " 8   Population (65+)                            2436 non-null   float64\n",
      " 9   Staffed All Beds [Per 1000 People]          2436 non-null   float64\n",
      " 10  Staffed All Beds [Per 1000 Adults (20+)]    2436 non-null   float64\n",
      " 11  Staffed All Beds [Per 1000 Elderly (65+)]   2436 non-null   float64\n",
      " 12  Licensed All Beds [Per 1000 People]         2436 non-null   float64\n",
      " 13  Licensed All Beds [Per 1000 Adults (20+)]   2436 non-null   float64\n",
      " 14  Licensed All Beds [Per 1000 Elderly (65+)]  2436 non-null   float64\n",
      "dtypes: float64(12), int64(1), object(2)\n",
      "memory usage: 304.5+ KB\n"
     ]
    }
   ],
   "source": [
    "covid.info()"
   ]
  },
  {
   "cell_type": "markdown",
   "metadata": {},
   "source": [
    "#### Value Counts of Counties per State "
   ]
  },
  {
   "cell_type": "code",
   "execution_count": 360,
   "metadata": {},
   "outputs": [
    {
     "name": "stderr",
     "output_type": "stream",
     "text": [
      "/Library/Frameworks/Python.framework/Versions/3.11/lib/python3.11/site-packages/seaborn/_oldcore.py:1498: FutureWarning: is_categorical_dtype is deprecated and will be removed in a future version. Use isinstance(dtype, CategoricalDtype) instead\n",
      "  if pd.api.types.is_categorical_dtype(vector):\n",
      "/Library/Frameworks/Python.framework/Versions/3.11/lib/python3.11/site-packages/seaborn/_oldcore.py:1498: FutureWarning: is_categorical_dtype is deprecated and will be removed in a future version. Use isinstance(dtype, CategoricalDtype) instead\n",
      "  if pd.api.types.is_categorical_dtype(vector):\n",
      "/Library/Frameworks/Python.framework/Versions/3.11/lib/python3.11/site-packages/seaborn/_oldcore.py:1498: FutureWarning: is_categorical_dtype is deprecated and will be removed in a future version. Use isinstance(dtype, CategoricalDtype) instead\n",
      "  if pd.api.types.is_categorical_dtype(vector):\n"
     ]
    },
    {
     "data": {
      "image/png": "[encoded data removed]",
      "text/plain": [
       "<Figure size 1000x500 with 1 Axes>"
      ]
     },
     "metadata": {},
     "output_type": "display_data"
    }
   ],
   "source": [
    "plt.figure(figsize=(10, 5))\n",
    "chart = sns.countplot( data=covid, x='State')\n",
    "chart.set_xticklabels(chart.get_xticklabels(), rotation=45)\n",
    "plt.show()"
   ]
  },
  {
   "cell_type": "markdown",
   "metadata": {},
   "source": [
    "### All Bed Occupancy 5 Number Summary Box Plot "
   ]
  },
  {
   "cell_type": "code",
   "execution_count": 361,
   "metadata": {},
   "outputs": [
    {
     "name": "stderr",
     "output_type": "stream",
     "text": [
      "/Library/Frameworks/Python.framework/Versions/3.11/lib/python3.11/site-packages/seaborn/_oldcore.py:1498: FutureWarning: is_categorical_dtype is deprecated and will be removed in a future version. Use isinstance(dtype, CategoricalDtype) instead\n",
      "  if pd.api.types.is_categorical_dtype(vector):\n"
     ]
    },
    {
     "data": {
      "image/png": "[encoded data removed]",
      "text/plain": [
       "<Figure size 640x480 with 1 Axes>"
      ]
     },
     "metadata": {},
     "output_type": "display_data"
    }
   ],
   "source": [
    "sns.boxplot(y='All Bed Occupancy Rate', data=covid)\n",
    "\n",
    "plt.title('All Bed Occupancy Rate')\n",
    "plt.ylabel('Occupancy Rate')\n",
    "plt.show()"
   ]
  },
  {
   "cell_type": "markdown",
   "metadata": {},
   "source": [
    "#### Convert Target Var Using High Occupancy Threshold"
   ]
  },
  {
   "cell_type": "code",
   "execution_count": 362,
   "metadata": {},
   "outputs": [
    {
     "data": {
      "text/plain": [
       "1         high occupancy\n",
       "2       middle occupancy\n",
       "3          low occupancy\n",
       "4       middle occupancy\n",
       "5       middle occupancy\n",
       "              ...       \n",
       "2532       low occupancy\n",
       "2533    middle occupancy\n",
       "2534    middle occupancy\n",
       "2535    middle occupancy\n",
       "2536    middle occupancy\n",
       "Name: All Bed Occupancy Rate, Length: 2436, dtype: object"
      ]
     },
     "execution_count": 362,
     "metadata": {},
     "output_type": "execute_result"
    }
   ],
   "source": [
    "covid['All Bed Occupancy Rate'] = covid['All Bed Occupancy Rate'].apply(\n",
    "    lambda x: 'high occupancy' if x > 0.60\n",
    "    else ('middle occupancy' if x > 0.25\n",
    "          else 'low occupancy')\n",
    ")\n",
    "\n",
    "covid['All Bed Occupancy Rate'].astype('object')"
   ]
  },
  {
   "cell_type": "code",
   "execution_count": 363,
   "metadata": {},
   "outputs": [
    {
     "data": {
      "text/plain": [
       "All Bed Occupancy Rate\n",
       "middle occupancy    1231\n",
       "low occupancy        656\n",
       "high occupancy       549\n",
       "Name: count, dtype: int64"
      ]
     },
     "execution_count": 363,
     "metadata": {},
     "output_type": "execute_result"
    }
   ],
   "source": [
    "covid['All Bed Occupancy Rate'].value_counts()"
   ]
  },
  {
   "cell_type": "markdown",
   "metadata": {},
   "source": [
    "### Value Counts of Categorized All Bed Occupancy Rate"
   ]
  },
  {
   "cell_type": "code",
   "execution_count": 364,
   "metadata": {},
   "outputs": [
    {
     "name": "stderr",
     "output_type": "stream",
     "text": [
      "/Library/Frameworks/Python.framework/Versions/3.11/lib/python3.11/site-packages/seaborn/_oldcore.py:1498: FutureWarning: is_categorical_dtype is deprecated and will be removed in a future version. Use isinstance(dtype, CategoricalDtype) instead\n",
      "  if pd.api.types.is_categorical_dtype(vector):\n",
      "/Library/Frameworks/Python.framework/Versions/3.11/lib/python3.11/site-packages/seaborn/_oldcore.py:1498: FutureWarning: is_categorical_dtype is deprecated and will be removed in a future version. Use isinstance(dtype, CategoricalDtype) instead\n",
      "  if pd.api.types.is_categorical_dtype(vector):\n",
      "/Library/Frameworks/Python.framework/Versions/3.11/lib/python3.11/site-packages/seaborn/_oldcore.py:1498: FutureWarning: is_categorical_dtype is deprecated and will be removed in a future version. Use isinstance(dtype, CategoricalDtype) instead\n",
      "  if pd.api.types.is_categorical_dtype(vector):\n"
     ]
    },
    {
     "data": {
      "image/png": "[encoded data removed]",
      "text/plain": [
       "<Figure size 1000x500 with 1 Axes>"
      ]
     },
     "metadata": {},
     "output_type": "display_data"
    }
   ],
   "source": [
    "plt.figure(figsize=(10, 5))\n",
    "chart = sns.countplot(data=covid, x='All Bed Occupancy Rate')\n",
    "chart.set_xticklabels(chart.get_xticklabels(), rotation=45)\n",
    "plt.show()"
   ]
  },
  {
   "cell_type": "code",
   "execution_count": 365,
   "metadata": {},
   "outputs": [
    {
     "data": {
      "text/html": [
       "<div>\n",
       "<style scoped>\n",
       "    .dataframe tbody tr th:only-of-type {\n",
       "        vertical-align: middle;\n",
       "    }\n",
       "\n",
       "    .dataframe tbody tr th {\n",
       "        vertical-align: top;\n",
       "    }\n",
       "\n",
       "    .dataframe thead th {\n",
       "        text-align: right;\n",
       "    }\n",
       "</style>\n",
       "<table border=\"1\" class=\"dataframe\">\n",
       "  <thead>\n",
       "    <tr style=\"text-align: right;\">\n",
       "      <th></th>\n",
       "      <th>fips_code</th>\n",
       "      <th>Staffed All Beds</th>\n",
       "      <th>Licensed All Beds</th>\n",
       "      <th>Population</th>\n",
       "      <th>Population (20+)</th>\n",
       "      <th>Population (65+)</th>\n",
       "      <th>Staffed All Beds [Per 1000 People]</th>\n",
       "      <th>Staffed All Beds [Per 1000 Adults (20+)]</th>\n",
       "      <th>Staffed All Beds [Per 1000 Elderly (65+)]</th>\n",
       "      <th>Licensed All Beds [Per 1000 People]</th>\n",
       "      <th>Licensed All Beds [Per 1000 Adults (20+)]</th>\n",
       "      <th>Licensed All Beds [Per 1000 Elderly (65+)]</th>\n",
       "    </tr>\n",
       "  </thead>\n",
       "  <tbody>\n",
       "    <tr>\n",
       "      <th>count</th>\n",
       "      <td>2436.000000</td>\n",
       "      <td>2436.000000</td>\n",
       "      <td>2436.000000</td>\n",
       "      <td>2.436000e+03</td>\n",
       "      <td>2.436000e+03</td>\n",
       "      <td>2.436000e+03</td>\n",
       "      <td>2436.000000</td>\n",
       "      <td>2436.000000</td>\n",
       "      <td>2436.000000</td>\n",
       "      <td>2436.000000</td>\n",
       "      <td>2436.000000</td>\n",
       "      <td>2436.000000</td>\n",
       "    </tr>\n",
       "    <tr>\n",
       "      <th>mean</th>\n",
       "      <td>30149.147373</td>\n",
       "      <td>332.106322</td>\n",
       "      <td>428.863711</td>\n",
       "      <td>1.296366e+05</td>\n",
       "      <td>9.711367e+04</td>\n",
       "      <td>2.064483e+04</td>\n",
       "      <td>2.665162</td>\n",
       "      <td>3.547758</td>\n",
       "      <td>14.597846</td>\n",
       "      <td>3.453977</td>\n",
       "      <td>4.594261</td>\n",
       "      <td>18.994130</td>\n",
       "    </tr>\n",
       "    <tr>\n",
       "      <th>std</th>\n",
       "      <td>14947.143726</td>\n",
       "      <td>1003.550685</td>\n",
       "      <td>1279.834426</td>\n",
       "      <td>3.747552e+05</td>\n",
       "      <td>2.809996e+05</td>\n",
       "      <td>5.350184e+04</td>\n",
       "      <td>2.417202</td>\n",
       "      <td>3.175213</td>\n",
       "      <td>12.894066</td>\n",
       "      <td>3.906481</td>\n",
       "      <td>5.076848</td>\n",
       "      <td>20.905135</td>\n",
       "    </tr>\n",
       "    <tr>\n",
       "      <th>min</th>\n",
       "      <td>1001.000000</td>\n",
       "      <td>2.000000</td>\n",
       "      <td>0.000000</td>\n",
       "      <td>1.087000e+03</td>\n",
       "      <td>8.800000e+02</td>\n",
       "      <td>2.540000e+02</td>\n",
       "      <td>0.092000</td>\n",
       "      <td>0.128000</td>\n",
       "      <td>0.493000</td>\n",
       "      <td>0.000000</td>\n",
       "      <td>0.000000</td>\n",
       "      <td>0.000000</td>\n",
       "    </tr>\n",
       "    <tr>\n",
       "      <th>25%</th>\n",
       "      <td>19032.000000</td>\n",
       "      <td>25.000000</td>\n",
       "      <td>25.000000</td>\n",
       "      <td>1.550450e+04</td>\n",
       "      <td>1.171075e+04</td>\n",
       "      <td>3.064000e+03</td>\n",
       "      <td>1.291000</td>\n",
       "      <td>1.710500</td>\n",
       "      <td>6.940500</td>\n",
       "      <td>1.588000</td>\n",
       "      <td>2.113750</td>\n",
       "      <td>8.511000</td>\n",
       "    </tr>\n",
       "    <tr>\n",
       "      <th>50%</th>\n",
       "      <td>29114.000000</td>\n",
       "      <td>50.000000</td>\n",
       "      <td>76.000000</td>\n",
       "      <td>3.563350e+04</td>\n",
       "      <td>2.688050e+04</td>\n",
       "      <td>6.643500e+03</td>\n",
       "      <td>2.038500</td>\n",
       "      <td>2.720500</td>\n",
       "      <td>11.203000</td>\n",
       "      <td>2.626500</td>\n",
       "      <td>3.506000</td>\n",
       "      <td>14.336000</td>\n",
       "    </tr>\n",
       "    <tr>\n",
       "      <th>75%</th>\n",
       "      <td>42089.500000</td>\n",
       "      <td>209.000000</td>\n",
       "      <td>272.250000</td>\n",
       "      <td>9.681875e+04</td>\n",
       "      <td>7.229200e+04</td>\n",
       "      <td>1.637425e+04</td>\n",
       "      <td>3.138000</td>\n",
       "      <td>4.210000</td>\n",
       "      <td>17.792750</td>\n",
       "      <td>4.081500</td>\n",
       "      <td>5.441500</td>\n",
       "      <td>22.717250</td>\n",
       "    </tr>\n",
       "    <tr>\n",
       "      <th>max</th>\n",
       "      <td>56045.000000</td>\n",
       "      <td>23071.000000</td>\n",
       "      <td>27400.000000</td>\n",
       "      <td>1.010552e+07</td>\n",
       "      <td>7.658126e+06</td>\n",
       "      <td>1.375957e+06</td>\n",
       "      <td>30.373000</td>\n",
       "      <td>39.077000</td>\n",
       "      <td>155.666000</td>\n",
       "      <td>97.226000</td>\n",
       "      <td>120.423000</td>\n",
       "      <td>463.326000</td>\n",
       "    </tr>\n",
       "  </tbody>\n",
       "</table>\n",
       "</div>"
      ],
      "text/plain": [
       "          fips_code  Staffed All Beds  Licensed All Beds    Population  \\\n",
       "count   2436.000000       2436.000000        2436.000000  2.436000e+03   \n",
       "mean   30149.147373        332.106322         428.863711  1.296366e+05   \n",
       "std    14947.143726       1003.550685        1279.834426  3.747552e+05   \n",
       "min     1001.000000          2.000000           0.000000  1.087000e+03   \n",
       "25%    19032.000000         25.000000          25.000000  1.550450e+04   \n",
       "50%    29114.000000         50.000000          76.000000  3.563350e+04   \n",
       "75%    42089.500000        209.000000         272.250000  9.681875e+04   \n",
       "max    56045.000000      23071.000000       27400.000000  1.010552e+07   \n",
       "\n",
       "       Population (20+)  Population (65+)  Staffed All Beds [Per 1000 People]  \\\n",
       "count      2.436000e+03      2.436000e+03                         2436.000000   \n",
       "mean       9.711367e+04      2.064483e+04                            2.665162   \n",
       "std        2.809996e+05      5.350184e+04                            2.417202   \n",
       "min        8.800000e+02      2.540000e+02                            0.092000   \n",
       "25%        1.171075e+04      3.064000e+03                            1.291000   \n",
       "50%        2.688050e+04      6.643500e+03                            2.038500   \n",
       "75%        7.229200e+04      1.637425e+04                            3.138000   \n",
       "max        7.658126e+06      1.375957e+06                           30.373000   \n",
       "\n",
       "       Staffed All Beds [Per 1000 Adults (20+)]  \\\n",
       "count                               2436.000000   \n",
       "mean                                   3.547758   \n",
       "std                                    3.175213   \n",
       "min                                    0.128000   \n",
       "25%                                    1.710500   \n",
       "50%                                    2.720500   \n",
       "75%                                    4.210000   \n",
       "max                                   39.077000   \n",
       "\n",
       "       Staffed All Beds [Per 1000 Elderly (65+)]  \\\n",
       "count                                2436.000000   \n",
       "mean                                   14.597846   \n",
       "std                                    12.894066   \n",
       "min                                     0.493000   \n",
       "25%                                     6.940500   \n",
       "50%                                    11.203000   \n",
       "75%                                    17.792750   \n",
       "max                                   155.666000   \n",
       "\n",
       "       Licensed All Beds [Per 1000 People]  \\\n",
       "count                          2436.000000   \n",
       "mean                              3.453977   \n",
       "std                               3.906481   \n",
       "min                               0.000000   \n",
       "25%                               1.588000   \n",
       "50%                               2.626500   \n",
       "75%                               4.081500   \n",
       "max                              97.226000   \n",
       "\n",
       "       Licensed All Beds [Per 1000 Adults (20+)]  \\\n",
       "count                                2436.000000   \n",
       "mean                                    4.594261   \n",
       "std                                     5.076848   \n",
       "min                                     0.000000   \n",
       "25%                                     2.113750   \n",
       "50%                                     3.506000   \n",
       "75%                                     5.441500   \n",
       "max                                   120.423000   \n",
       "\n",
       "       Licensed All Beds [Per 1000 Elderly (65+)]  \n",
       "count                                 2436.000000  \n",
       "mean                                    18.994130  \n",
       "std                                     20.905135  \n",
       "min                                      0.000000  \n",
       "25%                                      8.511000  \n",
       "50%                                     14.336000  \n",
       "75%                                     22.717250  \n",
       "max                                    463.326000  "
      ]
     },
     "execution_count": 365,
     "metadata": {},
     "output_type": "execute_result"
    }
   ],
   "source": [
    "covid.describe()"
   ]
  },
  {
   "cell_type": "markdown",
   "metadata": {},
   "source": [
    "#### **Normalizing Numeric Vectors**"
   ]
  },
  {
   "cell_type": "code",
   "execution_count": 366,
   "metadata": {},
   "outputs": [],
   "source": [
    "numeric = covid.select_dtypes(include=['float64']).columns.tolist()\n",
    "covid[numeric] = MinMaxScaler().fit_transform(covid[numeric])"
   ]
  },
  {
   "cell_type": "markdown",
   "metadata": {},
   "source": [
    "#### **One-Hot Encoding and Partition Data**"
   ]
  },
  {
   "cell_type": "code",
   "execution_count": 367,
   "metadata": {},
   "outputs": [],
   "source": [
    "# Drop Target Before One-Hot Encoding \n",
    "y = covid['All Bed Occupancy Rate']\n",
    "\n",
    "covid_1h = covid.drop(columns='All Bed Occupancy Rate')\n",
    "\n",
    "non_numeric = covid_1h.select_dtypes(include=['object']).columns.tolist()\n",
    "covid_1h = pd.get_dummies(covid_1h, columns = non_numeric)\n",
    "\n",
    "covid_1h.head()\n",
    "\n",
    "X =  covid_1h"
   ]
  },
  {
   "cell_type": "markdown",
   "metadata": {},
   "source": [
    "### Check Prevelance "
   ]
  },
  {
   "cell_type": "markdown",
   "metadata": {},
   "source": [
    "From the prevelance, we understand that at random there is a 21.9% chance of selecting a county with high occupancy rate. "
   ]
  },
  {
   "cell_type": "code",
   "execution_count": 368,
   "metadata": {},
   "outputs": [
    {
     "name": "stdout",
     "output_type": "stream",
     "text": [
      "All Bed Occupancy Rate\n",
      "middle occupancy    0.505337\n",
      "low occupancy       0.269294\n",
      "high occupancy      0.225369\n",
      "Name: proportion, dtype: float64\n"
     ]
    }
   ],
   "source": [
    "print(y.value_counts(normalize=True))"
   ]
  },
  {
   "cell_type": "markdown",
   "metadata": {},
   "source": [
    "### Partition using train_test_split"
   ]
  },
  {
   "cell_type": "code",
   "execution_count": 369,
   "metadata": {},
   "outputs": [],
   "source": [
    "X_train, X_test, y_train, y_test = train_test_split(X, y, train_size=0.80, stratify = y, random_state=21)"
   ]
  },
  {
   "cell_type": "markdown",
   "metadata": {},
   "source": [
    "### Create Tuning Set"
   ]
  },
  {
   "cell_type": "code",
   "execution_count": 370,
   "metadata": {},
   "outputs": [],
   "source": [
    "X_tune, X_test, y_tune, y_test = train_test_split(X_test,y_test,  train_size = 0.50, stratify = y_test,random_state=49)"
   ]
  },
  {
   "cell_type": "markdown",
   "metadata": {},
   "source": [
    "#### **Building the Model**"
   ]
  },
  {
   "cell_type": "code",
   "execution_count": 371,
   "metadata": {},
   "outputs": [],
   "source": [
    "covid_5NN = KNeighborsClassifier(n_neighbors=5)"
   ]
  },
  {
   "cell_type": "code",
   "execution_count": 372,
   "metadata": {},
   "outputs": [],
   "source": [
    "X_train, X_test, y_train, y_test = train_test_split(X, y, train_size=0.80, stratify = y, random_state=21)"
   ]
  },
  {
   "cell_type": "code",
   "execution_count": 373,
   "metadata": {},
   "outputs": [
    {
     "data": {
      "text/html": [
       "<style>#sk-container-id-3 {color: black;}#sk-container-id-3 pre{padding: 0;}#sk-container-id-3 div.sk-toggleable {background-color: white;}#sk-container-id-3 label.sk-toggleable__label {cursor: pointer;display: block;width: 100%;margin-bottom: 0;padding: 0.3em;box-sizing: border-box;text-align: center;}#sk-container-id-3 label.sk-toggleable__label-arrow:before {content: \"▸\";float: left;margin-right: 0.25em;color: #696969;}#sk-container-id-3 label.sk-toggleable__label-arrow:hover:before {color: black;}#sk-container-id-3 div.sk-estimator:hover label.sk-toggleable__label-arrow:before {color: black;}#sk-container-id-3 div.sk-toggleable__content {max-height: 0;max-width: 0;overflow: hidden;text-align: left;background-color: #f0f8ff;}#sk-container-id-3 div.sk-toggleable__content pre {margin: 0.2em;color: black;border-radius: 0.25em;background-color: #f0f8ff;}#sk-container-id-3 input.sk-toggleable__control:checked~div.sk-toggleable__content {max-height: 200px;max-width: 100%;overflow: auto;}#sk-container-id-3 input.sk-toggleable__control:checked~label.sk-toggleable__label-arrow:before {content: \"▾\";}#sk-container-id-3 div.sk-estimator input.sk-toggleable__control:checked~label.sk-toggleable__label {background-color: #d4ebff;}#sk-container-id-3 div.sk-label input.sk-toggleable__control:checked~label.sk-toggleable__label {background-color: #d4ebff;}#sk-container-id-3 input.sk-hidden--visually {border: 0;clip: rect(1px 1px 1px 1px);clip: rect(1px, 1px, 1px, 1px);height: 1px;margin: -1px;overflow: hidden;padding: 0;position: absolute;width: 1px;}#sk-container-id-3 div.sk-estimator {font-family: monospace;background-color: #f0f8ff;border: 1px dotted black;border-radius: 0.25em;box-sizing: border-box;margin-bottom: 0.5em;}#sk-container-id-3 div.sk-estimator:hover {background-color: #d4ebff;}#sk-container-id-3 div.sk-parallel-item::after {content: \"\";width: 100%;border-bottom: 1px solid gray;flex-grow: 1;}#sk-container-id-3 div.sk-label:hover label.sk-toggleable__label {background-color: #d4ebff;}#sk-container-id-3 div.sk-serial::before {content: \"\";position: absolute;border-left: 1px solid gray;box-sizing: border-box;top: 0;bottom: 0;left: 50%;z-index: 0;}#sk-container-id-3 div.sk-serial {display: flex;flex-direction: column;align-items: center;background-color: white;padding-right: 0.2em;padding-left: 0.2em;position: relative;}#sk-container-id-3 div.sk-item {position: relative;z-index: 1;}#sk-container-id-3 div.sk-parallel {display: flex;align-items: stretch;justify-content: center;background-color: white;position: relative;}#sk-container-id-3 div.sk-item::before, #sk-container-id-3 div.sk-parallel-item::before {content: \"\";position: absolute;border-left: 1px solid gray;box-sizing: border-box;top: 0;bottom: 0;left: 50%;z-index: -1;}#sk-container-id-3 div.sk-parallel-item {display: flex;flex-direction: column;z-index: 1;position: relative;background-color: white;}#sk-container-id-3 div.sk-parallel-item:first-child::after {align-self: flex-end;width: 50%;}#sk-container-id-3 div.sk-parallel-item:last-child::after {align-self: flex-start;width: 50%;}#sk-container-id-3 div.sk-parallel-item:only-child::after {width: 0;}#sk-container-id-3 div.sk-dashed-wrapped {border: 1px dashed gray;margin: 0 0.4em 0.5em 0.4em;box-sizing: border-box;padding-bottom: 0.4em;background-color: white;}#sk-container-id-3 div.sk-label label {font-family: monospace;font-weight: bold;display: inline-block;line-height: 1.2em;}#sk-container-id-3 div.sk-label-container {text-align: center;}#sk-container-id-3 div.sk-container {/* jupyter's `normalize.less` sets `[hidden] { display: none; }` but bootstrap.min.css set `[hidden] { display: none !important; }` so we also need the `!important` here to be able to override the default hidden behavior on the sphinx rendered scikit-learn.org. See: https://github.com/scikit-learn/scikit-learn/issues/21755 */display: inline-block !important;position: relative;}#sk-container-id-3 div.sk-text-repr-fallback {display: none;}</style><div id=\"sk-container-id-3\" class=\"sk-top-container\"><div class=\"sk-text-repr-fallback\"><pre>KNeighborsClassifier()</pre><b>In a Jupyter environment, please rerun this cell to show the HTML representation or trust the notebook. <br />On GitHub, the HTML representation is unable to render, please try loading this page with nbviewer.org.</b></div><div class=\"sk-container\" hidden><div class=\"sk-item\"><div class=\"sk-estimator sk-toggleable\"><input class=\"sk-toggleable__control sk-hidden--visually\" id=\"sk-estimator-id-3\" type=\"checkbox\" checked><label for=\"sk-estimator-id-3\" class=\"sk-toggleable__label sk-toggleable__label-arrow\">KNeighborsClassifier</label><div class=\"sk-toggleable__content\"><pre>KNeighborsClassifier()</pre></div></div></div></div></div>"
      ],
      "text/plain": [
       "KNeighborsClassifier()"
      ]
     },
     "execution_count": 373,
     "metadata": {},
     "output_type": "execute_result"
    }
   ],
   "source": [
    "covid_5NN.fit(X_train, y_train)"
   ]
  },
  {
   "cell_type": "markdown",
   "metadata": {},
   "source": [
    "### Fit KNN to training data"
   ]
  },
  {
   "cell_type": "code",
   "execution_count": 374,
   "metadata": {},
   "outputs": [
    {
     "name": "stdout",
     "output_type": "stream",
     "text": [
      "0.47950819672131145\n"
     ]
    }
   ],
   "source": [
    "print(covid_5NN.score(X_tune, y_tune))"
   ]
  },
  {
   "cell_type": "markdown",
   "metadata": {},
   "source": [
    "#### Evaluation Metrics"
   ]
  },
  {
   "cell_type": "code",
   "execution_count": 375,
   "metadata": {},
   "outputs": [
    {
     "name": "stdout",
     "output_type": "stream",
     "text": [
      "[[0.2 0.  0.8]\n",
      " [0.  0.2 0.8]\n",
      " [0.6 0.  0.4]\n",
      " [0.6 0.  0.4]\n",
      " [0.2 0.2 0.6]]\n"
     ]
    }
   ],
   "source": [
    "covid_prob1 = covid_5NN.predict_proba(X_tune)\n",
    "print(covid_prob1[:5]) "
   ]
  },
  {
   "cell_type": "code",
   "execution_count": 376,
   "metadata": {},
   "outputs": [
    {
     "name": "stdout",
     "output_type": "stream",
     "text": [
      "['middle occupancy' 'middle occupancy' 'high occupancy' 'high occupancy'\n",
      " 'middle occupancy' 'middle occupancy' 'high occupancy' 'middle occupancy'\n",
      " 'middle occupancy' 'middle occupancy' 'low occupancy' 'middle occupancy'\n",
      " 'low occupancy' 'middle occupancy' 'low occupancy' 'high occupancy'\n",
      " 'middle occupancy' 'high occupancy' 'high occupancy' 'high occupancy'\n",
      " 'high occupancy' 'middle occupancy' 'middle occupancy' 'middle occupancy'\n",
      " 'middle occupancy' 'low occupancy' 'middle occupancy' 'low occupancy'\n",
      " 'low occupancy' 'low occupancy' 'middle occupancy' 'high occupancy'\n",
      " 'middle occupancy' 'high occupancy' 'high occupancy' 'middle occupancy'\n",
      " 'middle occupancy' 'middle occupancy' 'middle occupancy'\n",
      " 'middle occupancy' 'middle occupancy' 'middle occupancy' 'high occupancy'\n",
      " 'middle occupancy' 'low occupancy' 'middle occupancy' 'middle occupancy'\n",
      " 'middle occupancy' 'middle occupancy' 'middle occupancy'\n",
      " 'middle occupancy' 'high occupancy' 'low occupancy' 'low occupancy'\n",
      " 'high occupancy' 'middle occupancy' 'low occupancy' 'middle occupancy'\n",
      " 'middle occupancy' 'high occupancy' 'high occupancy' 'middle occupancy'\n",
      " 'low occupancy' 'low occupancy' 'low occupancy' 'high occupancy'\n",
      " 'middle occupancy' 'middle occupancy' 'low occupancy' 'middle occupancy'\n",
      " 'high occupancy' 'middle occupancy' 'middle occupancy' 'low occupancy'\n",
      " 'low occupancy' 'middle occupancy' 'middle occupancy' 'middle occupancy'\n",
      " 'middle occupancy' 'low occupancy' 'low occupancy' 'high occupancy'\n",
      " 'middle occupancy' 'middle occupancy' 'low occupancy' 'low occupancy'\n",
      " 'high occupancy' 'low occupancy' 'middle occupancy' 'low occupancy'\n",
      " 'low occupancy' 'middle occupancy' 'high occupancy' 'low occupancy'\n",
      " 'middle occupancy' 'middle occupancy' 'low occupancy' 'low occupancy'\n",
      " 'middle occupancy' 'middle occupancy' 'low occupancy' 'middle occupancy'\n",
      " 'middle occupancy' 'middle occupancy' 'low occupancy' 'low occupancy'\n",
      " 'high occupancy' 'middle occupancy' 'high occupancy' 'middle occupancy'\n",
      " 'high occupancy' 'middle occupancy' 'middle occupancy' 'high occupancy'\n",
      " 'high occupancy' 'middle occupancy' 'low occupancy' 'high occupancy'\n",
      " 'middle occupancy' 'low occupancy' 'low occupancy' 'middle occupancy'\n",
      " 'middle occupancy' 'middle occupancy' 'middle occupancy'\n",
      " 'middle occupancy' 'high occupancy' 'low occupancy' 'middle occupancy'\n",
      " 'low occupancy' 'high occupancy' 'middle occupancy' 'low occupancy'\n",
      " 'high occupancy' 'middle occupancy' 'middle occupancy' 'middle occupancy'\n",
      " 'middle occupancy' 'low occupancy' 'low occupancy' 'middle occupancy'\n",
      " 'low occupancy' 'middle occupancy' 'middle occupancy' 'middle occupancy'\n",
      " 'high occupancy' 'middle occupancy' 'high occupancy' 'middle occupancy'\n",
      " 'low occupancy' 'low occupancy' 'low occupancy' 'middle occupancy'\n",
      " 'high occupancy' 'middle occupancy' 'middle occupancy' 'low occupancy'\n",
      " 'high occupancy' 'middle occupancy' 'low occupancy' 'low occupancy'\n",
      " 'middle occupancy' 'low occupancy' 'middle occupancy' 'middle occupancy'\n",
      " 'high occupancy' 'middle occupancy' 'middle occupancy' 'middle occupancy'\n",
      " 'high occupancy' 'low occupancy' 'low occupancy' 'low occupancy'\n",
      " 'middle occupancy' 'middle occupancy' 'middle occupancy' 'low occupancy'\n",
      " 'middle occupancy' 'middle occupancy' 'low occupancy' 'low occupancy'\n",
      " 'low occupancy' 'middle occupancy' 'low occupancy' 'high occupancy'\n",
      " 'middle occupancy' 'middle occupancy' 'high occupancy' 'middle occupancy'\n",
      " 'low occupancy' 'middle occupancy' 'high occupancy' 'low occupancy'\n",
      " 'middle occupancy' 'low occupancy' 'middle occupancy' 'high occupancy'\n",
      " 'middle occupancy' 'middle occupancy' 'middle occupancy'\n",
      " 'middle occupancy' 'low occupancy' 'high occupancy' 'middle occupancy'\n",
      " 'low occupancy' 'high occupancy' 'middle occupancy' 'high occupancy'\n",
      " 'high occupancy' 'middle occupancy' 'low occupancy' 'middle occupancy'\n",
      " 'middle occupancy' 'low occupancy' 'high occupancy' 'middle occupancy'\n",
      " 'high occupancy' 'middle occupancy' 'middle occupancy' 'low occupancy'\n",
      " 'low occupancy' 'middle occupancy' 'low occupancy' 'low occupancy'\n",
      " 'middle occupancy' 'middle occupancy' 'middle occupancy' 'low occupancy'\n",
      " 'low occupancy' 'low occupancy' 'middle occupancy' 'middle occupancy'\n",
      " 'low occupancy' 'high occupancy' 'middle occupancy' 'low occupancy'\n",
      " 'middle occupancy' 'middle occupancy' 'middle occupancy' 'high occupancy'\n",
      " 'middle occupancy' 'high occupancy' 'low occupancy' 'low occupancy']\n"
     ]
    }
   ],
   "source": [
    "covid_pred1 = covid_5NN.predict(X_tune)\n",
    "print(covid_pred1)"
   ]
  },
  {
   "cell_type": "code",
   "execution_count": 377,
   "metadata": {},
   "outputs": [
    {
     "ename": "NameError",
     "evalue": "name '_prob1' is not defined",
     "output_type": "error",
     "traceback": [
      "\u001b[0;31m---------------------------------------------------------------------------\u001b[0m",
      "\u001b[0;31mNameError\u001b[0m                                 Traceback (most recent call last)",
      "\u001b[1;32m/Users/courtneynguyen2/Documents/myDS-3001/ds3001-final.ipynb Cell 44\u001b[0m line \u001b[0;36m1\n\u001b[0;32m----> <a href='vscode-notebook-cell:/Users/courtneynguyen2/Documents/myDS-3001/ds3001-final.ipynb#Y120sZmlsZQ%3D%3D?line=0'>1</a>\u001b[0m final_model\u001b[39m=\u001b[39m pd\u001b[39m.\u001b[39mDataFrame({\u001b[39m'\u001b[39m\u001b[39mneg_prob\u001b[39m\u001b[39m'\u001b[39m:_prob1[:, \u001b[39m0\u001b[39m], \u001b[39m'\u001b[39m\u001b[39mpred\u001b[39m\u001b[39m'\u001b[39m:mushroom_pred1,\u001b[39m'\u001b[39m\u001b[39mtarget\u001b[39m\u001b[39m'\u001b[39m:y_tune, \u001b[39m'\u001b[39m\u001b[39mpos_prob\u001b[39m\u001b[39m'\u001b[39m:mushroom_prob1[:, \u001b[39m1\u001b[39m]})\n\u001b[1;32m      <a href='vscode-notebook-cell:/Users/courtneynguyen2/Documents/myDS-3001/ds3001-final.ipynb#Y120sZmlsZQ%3D%3D?line=1'>2</a>\u001b[0m \u001b[39mprint\u001b[39m(final_model\u001b[39m.\u001b[39mhead())\n",
      "\u001b[0;31mNameError\u001b[0m: name '_prob1' is not defined"
     ]
    }
   ],
   "source": [
    "final_model= pd.DataFrame({'neg_prob':_prob1[:, 0], 'pred':mushroom_pred1,'target':y_tune, 'pos_prob':mushroom_prob1[:, 1]})\n",
    "print(final_model.head())"
   ]
  },
  {
   "cell_type": "code",
   "execution_count": null,
   "metadata": {},
   "outputs": [],
   "source": [
    "print(metrics.confusion_matrix(final_model.target,final_model.pred)) \n",
    "print(metrics.ConfusionMatrixDisplay.from_predictions(final_model.target,final_model.pred, display_labels = [False, True], colorbar=False))"
   ]
  }
 ],
 "metadata": {
  "kernelspec": {
   "display_name": "Python 3",
   "language": "python",
   "name": "python3"
  },
  "language_info": {
   "codemirror_mode": {
    "name": "ipython",
    "version": 3
   },
   "file_extension": ".py",
   "mimetype": "text/x-python",
   "name": "python",
   "nbconvert_exporter": "python",
   "pygments_lexer": "ipython3",
   "version": "3.11.3"
  }
 },
 "nbformat": 4,
 "nbformat_minor": 2
}
